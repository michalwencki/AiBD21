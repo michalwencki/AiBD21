{
 "cells": [
  {
   "cell_type": "code",
   "execution_count": 1,
   "id": "79d93869",
   "metadata": {},
   "outputs": [],
   "source": [
    "import numpy as np\n",
    "import pickle\n",
    "\n",
    "import psycopg2 as pg\n",
    "import pandas.io.sql as psql\n",
    "import pandas as pd\n",
    "\n",
    "from typing import Union, List, Tuple\n",
    "\n",
    "connection = pg.connect(host='pgsql-196447.vipserv.org', port=5432, dbname='wbauer_adb', user='wbauer_adb', password='adb2020');"
   ]
  },
  {
   "cell_type": "code",
   "execution_count": 2,
   "id": "f90adf9e",
   "metadata": {},
   "outputs": [
    {
     "data": {
      "text/html": [
       "<div>\n",
       "<style scoped>\n",
       "    .dataframe tbody tr th:only-of-type {\n",
       "        vertical-align: middle;\n",
       "    }\n",
       "\n",
       "    .dataframe tbody tr th {\n",
       "        vertical-align: top;\n",
       "    }\n",
       "\n",
       "    .dataframe thead th {\n",
       "        text-align: right;\n",
       "    }\n",
       "</style>\n",
       "<table border=\"1\" class=\"dataframe\">\n",
       "  <thead>\n",
       "    <tr style=\"text-align: right;\">\n",
       "      <th></th>\n",
       "      <th>title</th>\n",
       "      <th>length</th>\n",
       "      <th>duplicates</th>\n",
       "    </tr>\n",
       "  </thead>\n",
       "  <tbody>\n",
       "    <tr>\n",
       "      <th>0</th>\n",
       "      <td>Ridgemont Submarine</td>\n",
       "      <td>46</td>\n",
       "      <td>True</td>\n",
       "    </tr>\n",
       "    <tr>\n",
       "      <th>1</th>\n",
       "      <td>Iron Moon</td>\n",
       "      <td>46</td>\n",
       "      <td>True</td>\n",
       "    </tr>\n",
       "    <tr>\n",
       "      <th>2</th>\n",
       "      <td>Alien Center</td>\n",
       "      <td>46</td>\n",
       "      <td>True</td>\n",
       "    </tr>\n",
       "    <tr>\n",
       "      <th>3</th>\n",
       "      <td>Kwai Homeward</td>\n",
       "      <td>46</td>\n",
       "      <td>True</td>\n",
       "    </tr>\n",
       "    <tr>\n",
       "      <th>4</th>\n",
       "      <td>Labyrinth League</td>\n",
       "      <td>46</td>\n",
       "      <td>True</td>\n",
       "    </tr>\n",
       "  </tbody>\n",
       "</table>\n",
       "</div>"
      ],
      "text/plain": [
       "                 title  length duplicates\n",
       "0  Ridgemont Submarine      46       True\n",
       "1            Iron Moon      46       True\n",
       "2         Alien Center      46       True\n",
       "3        Kwai Homeward      46       True\n",
       "4     Labyrinth League      46       True"
      ]
     },
     "execution_count": 2,
     "metadata": {},
     "output_type": "execute_result"
    }
   ],
   "source": [
    "## zad 1\n",
    "df = pd.read_sql('SELECT title, length FROM film ORDER BY length ASC', con=connection)\n",
    "i = 0\n",
    "df['duplicates']=df['length'].eq(df['length'].iloc[i]).head(20)\n",
    "df2 = df.loc[df['duplicates']==True]\n",
    "df2\n",
    "## elementy takie same jak element i"
   ]
  },
  {
   "cell_type": "code",
   "execution_count": 3,
   "id": "32ea7b95",
   "metadata": {},
   "outputs": [
    {
     "data": {
      "text/html": [
       "<div>\n",
       "<style scoped>\n",
       "    .dataframe tbody tr th:only-of-type {\n",
       "        vertical-align: middle;\n",
       "    }\n",
       "\n",
       "    .dataframe tbody tr th {\n",
       "        vertical-align: top;\n",
       "    }\n",
       "\n",
       "    .dataframe thead th {\n",
       "        text-align: right;\n",
       "    }\n",
       "</style>\n",
       "<table border=\"1\" class=\"dataframe\">\n",
       "  <thead>\n",
       "    <tr style=\"text-align: right;\">\n",
       "      <th></th>\n",
       "      <th>avg</th>\n",
       "    </tr>\n",
       "  </thead>\n",
       "  <tbody>\n",
       "    <tr>\n",
       "      <th>0</th>\n",
       "      <td>2.98</td>\n",
       "    </tr>\n",
       "  </tbody>\n",
       "</table>\n",
       "</div>"
      ],
      "text/plain": [
       "    avg\n",
       "0  2.98"
      ]
     },
     "execution_count": 3,
     "metadata": {},
     "output_type": "execute_result"
    }
   ],
   "source": [
    "## zad 3\n",
    "df = pd.read_sql('SELECT avg(rental_rate) FROM film ', con=connection)\n",
    "df"
   ]
  },
  {
   "cell_type": "code",
   "execution_count": 9,
   "id": "bb6481d8",
   "metadata": {},
   "outputs": [
    {
     "data": {
      "text/plain": [
       "Drama          16\n",
       "Animation      16\n",
       "Horror         16\n",
       "Children       16\n",
       "Family         16\n",
       "Sports         16\n",
       "Documentary    16\n",
       "Action         16\n",
       "Games          16\n",
       "Music          16\n",
       "Travel         16\n",
       "Classics       16\n",
       "Sci-Fi         16\n",
       "Comedy         16\n",
       "New            16\n",
       "Foreign        16\n",
       "Name: name, dtype: int64"
      ]
     },
     "execution_count": 9,
     "metadata": {},
     "output_type": "execute_result"
    }
   ],
   "source": [
    "## zad 4\n",
    "df = pd.read_sql('SELECT DISTINCT film.title, category.name, category.category_id FROM film,category WHERE film_id IN (SELECT category_id FROM film_category WHERE category_id IN (SELECT category_id from category )) ', con=connection)\n",
    "df['name'].value_counts()"
   ]
  },
  {
   "cell_type": "code",
   "execution_count": null,
   "id": "dc16babe",
   "metadata": {},
   "outputs": [],
   "source": [
    "## zad 5"
   ]
  }
 ],
 "metadata": {
  "kernelspec": {
   "display_name": "Python 3 (ipykernel)",
   "language": "python",
   "name": "python3"
  },
  "language_info": {
   "codemirror_mode": {
    "name": "ipython",
    "version": 3
   },
   "file_extension": ".py",
   "mimetype": "text/x-python",
   "name": "python",
   "nbconvert_exporter": "python",
   "pygments_lexer": "ipython3",
   "version": "3.8.0"
  }
 },
 "nbformat": 4,
 "nbformat_minor": 5
}
