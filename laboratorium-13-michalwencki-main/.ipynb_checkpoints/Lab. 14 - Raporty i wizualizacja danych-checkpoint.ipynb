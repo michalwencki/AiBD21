{
 "cells": [
  {
   "cell_type": "markdown",
   "id": "de693737",
   "metadata": {},
   "source": [
    "# Lab. 14 - Raporty i wizualizacja danych"
   ]
  },
  {
   "cell_type": "markdown",
   "id": "974ca47a",
   "metadata": {},
   "source": [
    "## Kontrolki interaktywne w Jupyter Notebook\n",
    "czyli jak korzystać z interaktywnych widgetów IPython, aby usprawnić eksplorację i analizę danych."
   ]
  },
  {
   "cell_type": "markdown",
   "id": "29386397",
   "metadata": {},
   "source": [
    "W eksploracji danych mało efektywne i zakłócające płynność analizy danych jest wielokrotne uruchamianie tej samej komórki, za każdym razem nieznacznie zmieniając parametry wejściowe, np. wybierając inną wartość funkcji, inne zakresy dat do analizy, czy motyw wizualizacji plotly.\n",
    "\n",
    "Jednym z rozwiązań tego problemu są interaktywne kontrolki umożliwiające zmianę danych wejściowych bez konieczności przepisywania lub ponownego uruchamiania kodu. Mowa o **IPython widgets** (z biblioteki ipywidgets), które można zbudować za pomocą jednej linii kodu. Biblioteka pozwala nam przekształcić statyczne dokumenty Jupyter Notebook w interaktywne pulpity, idealne do eksploracji i wizualizacji danych."
   ]
  },
  {
   "cell_type": "markdown",
   "id": "96c9b9b6",
   "metadata": {},
   "source": [
    "1. Instalacja: \n",
    "```cmd\n",
    "pip install ipywidgets \n",
    "pip install pyarrow\n",
    "pip install fastparquet\n",
    "pip install chart_studio\n",
    "```\n",
    "\n",
    "1. Aktywacja widgetów dla Jupyter Notebook: \n",
    "```cmd\n",
    "jupyter nbextension enable --py widgetsnbextension\n",
    "```\n",
    "2. Import: \n",
    "```python\n",
    "import ipywidgets as widgets\n",
    "from ipywidgets import interact, interact_manual\n",
    "```"
   ]
  },
  {
   "cell_type": "code",
   "execution_count": 1,
   "id": "edcceba5",
   "metadata": {},
   "outputs": [],
   "source": [
    "import ipywidgets as widgets\n",
    "from ipywidgets import interact, interact_manual\n",
    "import chart_studio.plotly as py"
   ]
  },
  {
   "cell_type": "code",
   "execution_count": 2,
   "id": "c11a2ab0",
   "metadata": {},
   "outputs": [],
   "source": [
    "import pandas as pd\n",
    "import numpy as np"
   ]
  },
  {
   "cell_type": "markdown",
   "id": "581be601",
   "metadata": {},
   "source": [
    "Pokaż wszystkie dane wyjściowe komórek"
   ]
  },
  {
   "cell_type": "code",
   "execution_count": 3,
   "id": "3793882c",
   "metadata": {},
   "outputs": [],
   "source": [
    "from IPython.core.interactiveshell import InteractiveShell\n",
    "InteractiveShell.ast_node_interactivity = 'all'"
   ]
  },
  {
   "cell_type": "markdown",
   "id": "61950883",
   "metadata": {},
   "source": [
    "## Podstawowe widgety\n",
    "Przed rozpoczęciem wykonywania głównego zadania, proszę zapoznać się z dokumentacją dostępną [tutaj](https://ipywidgets.readthedocs.io/en/latest/examples/Widget%20Basics.html). Zawiera ona przykłady najprostszych widgetów. Dostępna jest również wersja interaktywna, proszę ją wykonać. \n",
    "\n",
    "[Tutaj](https://ipywidgets.readthedocs.io/en/latest/examples/Widget%20List.html) znajduje się lista widgetów. Niech to będzie punkt odniesienia w trakcie pracy z wykorzystaniem widgetów. \\\n",
    "Cała dokumentacja jest dostępna [tutaj](https://ipywidgets.readthedocs.io/en/stable/user_guide.html)."
   ]
  },
  {
   "cell_type": "markdown",
   "id": "0f3486ec",
   "metadata": {},
   "source": [
    "## Wczytanie danych\n",
    "Dane pochodzą z [repozytorium Willa Koehrsena](https://github.com/WillKoehrsen/Data-Analysis) i zawierają statystyki dotyczące jego artykułów.\n",
    "\n",
    "Więcej informacji znajdziesz [tutaj](https://towardsdatascience.com/interactive-controls-for-jupyter-notebooks-f5c94829aee6)."
   ]
  },
  {
   "cell_type": "code",
   "execution_count": 4,
   "id": "f5711b4e",
   "metadata": {},
   "outputs": [
    {
     "data": {
      "text/html": [
       "<div>\n",
       "<style scoped>\n",
       "    .dataframe tbody tr th:only-of-type {\n",
       "        vertical-align: middle;\n",
       "    }\n",
       "\n",
       "    .dataframe tbody tr th {\n",
       "        vertical-align: top;\n",
       "    }\n",
       "\n",
       "    .dataframe thead th {\n",
       "        text-align: right;\n",
       "    }\n",
       "</style>\n",
       "<table border=\"1\" class=\"dataframe\">\n",
       "  <thead>\n",
       "    <tr style=\"text-align: right;\">\n",
       "      <th></th>\n",
       "      <th>claps</th>\n",
       "      <th>days_since_publication</th>\n",
       "      <th>fans</th>\n",
       "      <th>link</th>\n",
       "      <th>num_responses</th>\n",
       "      <th>publication</th>\n",
       "      <th>published_date</th>\n",
       "      <th>read_ratio</th>\n",
       "      <th>read_time</th>\n",
       "      <th>reads</th>\n",
       "      <th>...</th>\n",
       "      <th>type</th>\n",
       "      <th>views</th>\n",
       "      <th>word_count</th>\n",
       "      <th>claps_per_word</th>\n",
       "      <th>editing_days</th>\n",
       "      <th>&lt;tag&gt;Education</th>\n",
       "      <th>&lt;tag&gt;Data Science</th>\n",
       "      <th>&lt;tag&gt;Towards Data Science</th>\n",
       "      <th>&lt;tag&gt;Machine Learning</th>\n",
       "      <th>&lt;tag&gt;Python</th>\n",
       "    </tr>\n",
       "  </thead>\n",
       "  <tbody>\n",
       "    <tr>\n",
       "      <th>129</th>\n",
       "      <td>2</td>\n",
       "      <td>597.301123</td>\n",
       "      <td>2</td>\n",
       "      <td>https://medium.com/p/screw-the-environment-but...</td>\n",
       "      <td>0</td>\n",
       "      <td>None</td>\n",
       "      <td>2017-06-10 14:25:00</td>\n",
       "      <td>42.17</td>\n",
       "      <td>7</td>\n",
       "      <td>70</td>\n",
       "      <td>...</td>\n",
       "      <td>published</td>\n",
       "      <td>166</td>\n",
       "      <td>1859</td>\n",
       "      <td>0.001076</td>\n",
       "      <td>0</td>\n",
       "      <td>0</td>\n",
       "      <td>0</td>\n",
       "      <td>0</td>\n",
       "      <td>0</td>\n",
       "      <td>0</td>\n",
       "    </tr>\n",
       "    <tr>\n",
       "      <th>125</th>\n",
       "      <td>18</td>\n",
       "      <td>589.983168</td>\n",
       "      <td>3</td>\n",
       "      <td>https://medium.com/p/the-vanquishing-of-war-pl...</td>\n",
       "      <td>0</td>\n",
       "      <td>None</td>\n",
       "      <td>2017-06-17 22:02:00</td>\n",
       "      <td>30.34</td>\n",
       "      <td>14</td>\n",
       "      <td>54</td>\n",
       "      <td>...</td>\n",
       "      <td>published</td>\n",
       "      <td>178</td>\n",
       "      <td>3891</td>\n",
       "      <td>0.004626</td>\n",
       "      <td>0</td>\n",
       "      <td>0</td>\n",
       "      <td>0</td>\n",
       "      <td>0</td>\n",
       "      <td>0</td>\n",
       "      <td>0</td>\n",
       "    </tr>\n",
       "    <tr>\n",
       "      <th>132</th>\n",
       "      <td>51</td>\n",
       "      <td>577.363292</td>\n",
       "      <td>20</td>\n",
       "      <td>https://medium.com/p/capstone-project-mercedes...</td>\n",
       "      <td>0</td>\n",
       "      <td>None</td>\n",
       "      <td>2017-06-30 12:55:00</td>\n",
       "      <td>20.02</td>\n",
       "      <td>42</td>\n",
       "      <td>222</td>\n",
       "      <td>...</td>\n",
       "      <td>published</td>\n",
       "      <td>1109</td>\n",
       "      <td>12025</td>\n",
       "      <td>0.004241</td>\n",
       "      <td>0</td>\n",
       "      <td>0</td>\n",
       "      <td>0</td>\n",
       "      <td>0</td>\n",
       "      <td>1</td>\n",
       "      <td>1</td>\n",
       "    </tr>\n",
       "    <tr>\n",
       "      <th>126</th>\n",
       "      <td>0</td>\n",
       "      <td>576.520688</td>\n",
       "      <td>0</td>\n",
       "      <td>https://medium.com/p/home-of-the-scared-5af0fe...</td>\n",
       "      <td>0</td>\n",
       "      <td>None</td>\n",
       "      <td>2017-07-01 09:08:00</td>\n",
       "      <td>35.85</td>\n",
       "      <td>9</td>\n",
       "      <td>19</td>\n",
       "      <td>...</td>\n",
       "      <td>published</td>\n",
       "      <td>53</td>\n",
       "      <td>2533</td>\n",
       "      <td>0.000000</td>\n",
       "      <td>0</td>\n",
       "      <td>0</td>\n",
       "      <td>0</td>\n",
       "      <td>0</td>\n",
       "      <td>0</td>\n",
       "      <td>0</td>\n",
       "    </tr>\n",
       "    <tr>\n",
       "      <th>121</th>\n",
       "      <td>0</td>\n",
       "      <td>572.533035</td>\n",
       "      <td>0</td>\n",
       "      <td>https://medium.com/p/the-triumph-of-peace-f485...</td>\n",
       "      <td>0</td>\n",
       "      <td>None</td>\n",
       "      <td>2017-07-05 08:51:00</td>\n",
       "      <td>8.47</td>\n",
       "      <td>14</td>\n",
       "      <td>5</td>\n",
       "      <td>...</td>\n",
       "      <td>published</td>\n",
       "      <td>59</td>\n",
       "      <td>3892</td>\n",
       "      <td>0.000000</td>\n",
       "      <td>1</td>\n",
       "      <td>0</td>\n",
       "      <td>0</td>\n",
       "      <td>0</td>\n",
       "      <td>0</td>\n",
       "      <td>0</td>\n",
       "    </tr>\n",
       "  </tbody>\n",
       "</table>\n",
       "<p>5 rows × 25 columns</p>\n",
       "</div>"
      ],
      "text/plain": [
       "     claps  days_since_publication  fans  \\\n",
       "129      2              597.301123     2   \n",
       "125     18              589.983168     3   \n",
       "132     51              577.363292    20   \n",
       "126      0              576.520688     0   \n",
       "121      0              572.533035     0   \n",
       "\n",
       "                                                  link  num_responses  \\\n",
       "129  https://medium.com/p/screw-the-environment-but...              0   \n",
       "125  https://medium.com/p/the-vanquishing-of-war-pl...              0   \n",
       "132  https://medium.com/p/capstone-project-mercedes...              0   \n",
       "126  https://medium.com/p/home-of-the-scared-5af0fe...              0   \n",
       "121  https://medium.com/p/the-triumph-of-peace-f485...              0   \n",
       "\n",
       "    publication      published_date  read_ratio  read_time  reads  ...  \\\n",
       "129        None 2017-06-10 14:25:00       42.17          7     70  ...   \n",
       "125        None 2017-06-17 22:02:00       30.34         14     54  ...   \n",
       "132        None 2017-06-30 12:55:00       20.02         42    222  ...   \n",
       "126        None 2017-07-01 09:08:00       35.85          9     19  ...   \n",
       "121        None 2017-07-05 08:51:00        8.47         14      5  ...   \n",
       "\n",
       "          type views word_count claps_per_word  editing_days <tag>Education  \\\n",
       "129  published   166       1859       0.001076             0              0   \n",
       "125  published   178       3891       0.004626             0              0   \n",
       "132  published  1109      12025       0.004241             0              0   \n",
       "126  published    53       2533       0.000000             0              0   \n",
       "121  published    59       3892       0.000000             1              0   \n",
       "\n",
       "     <tag>Data Science  <tag>Towards Data Science  <tag>Machine Learning  \\\n",
       "129                  0                          0                      0   \n",
       "125                  0                          0                      0   \n",
       "132                  0                          0                      1   \n",
       "126                  0                          0                      0   \n",
       "121                  0                          0                      0   \n",
       "\n",
       "     <tag>Python  \n",
       "129            0  \n",
       "125            0  \n",
       "132            1  \n",
       "126            0  \n",
       "121            0  \n",
       "\n",
       "[5 rows x 25 columns]"
      ]
     },
     "execution_count": 4,
     "metadata": {},
     "output_type": "execute_result"
    }
   ],
   "source": [
    "data = pd.read_parquet('https://github.com/WillKoehrsen/Data-Analysis/blob/master/medium/data/medium_data_2019_01_26?raw=true')\n",
    "data.head()"
   ]
  },
  {
   "cell_type": "markdown",
   "id": "9c842ef2",
   "metadata": {},
   "source": [
    "Proszę zapoznać się z danymi (.columns, .describe(), .info())."
   ]
  },
  {
   "cell_type": "code",
   "execution_count": 5,
   "id": "96b17a96",
   "metadata": {},
   "outputs": [
    {
     "data": {
      "text/plain": [
       "Index(['claps', 'days_since_publication', 'fans', 'link', 'num_responses',\n",
       "       'publication', 'published_date', 'read_ratio', 'read_time', 'reads',\n",
       "       'started_date', 'tags', 'text', 'title', 'title_word_count', 'type',\n",
       "       'views', 'word_count', 'claps_per_word', 'editing_days',\n",
       "       '<tag>Education', '<tag>Data Science', '<tag>Towards Data Science',\n",
       "       '<tag>Machine Learning', '<tag>Python'],\n",
       "      dtype='object')"
      ]
     },
     "execution_count": 5,
     "metadata": {},
     "output_type": "execute_result"
    }
   ],
   "source": [
    "data.columns"
   ]
  },
  {
   "cell_type": "code",
   "execution_count": 6,
   "id": "49b66f4a",
   "metadata": {},
   "outputs": [
    {
     "data": {
      "text/html": [
       "<div>\n",
       "<style scoped>\n",
       "    .dataframe tbody tr th:only-of-type {\n",
       "        vertical-align: middle;\n",
       "    }\n",
       "\n",
       "    .dataframe tbody tr th {\n",
       "        vertical-align: top;\n",
       "    }\n",
       "\n",
       "    .dataframe thead th {\n",
       "        text-align: right;\n",
       "    }\n",
       "</style>\n",
       "<table border=\"1\" class=\"dataframe\">\n",
       "  <thead>\n",
       "    <tr style=\"text-align: right;\">\n",
       "      <th></th>\n",
       "      <th>claps</th>\n",
       "      <th>days_since_publication</th>\n",
       "      <th>fans</th>\n",
       "      <th>num_responses</th>\n",
       "      <th>read_ratio</th>\n",
       "      <th>read_time</th>\n",
       "      <th>reads</th>\n",
       "      <th>title_word_count</th>\n",
       "      <th>views</th>\n",
       "      <th>word_count</th>\n",
       "      <th>claps_per_word</th>\n",
       "      <th>editing_days</th>\n",
       "      <th>&lt;tag&gt;Education</th>\n",
       "      <th>&lt;tag&gt;Data Science</th>\n",
       "      <th>&lt;tag&gt;Towards Data Science</th>\n",
       "      <th>&lt;tag&gt;Machine Learning</th>\n",
       "      <th>&lt;tag&gt;Python</th>\n",
       "    </tr>\n",
       "  </thead>\n",
       "  <tbody>\n",
       "    <tr>\n",
       "      <th>count</th>\n",
       "      <td>133.000000</td>\n",
       "      <td>133.000000</td>\n",
       "      <td>133.000000</td>\n",
       "      <td>133.000000</td>\n",
       "      <td>133.000000</td>\n",
       "      <td>133.000000</td>\n",
       "      <td>133.000000</td>\n",
       "      <td>133.000000</td>\n",
       "      <td>133.000000</td>\n",
       "      <td>133.000000</td>\n",
       "      <td>133.000000</td>\n",
       "      <td>133.000000</td>\n",
       "      <td>133.000000</td>\n",
       "      <td>133.000000</td>\n",
       "      <td>133.000000</td>\n",
       "      <td>133.000000</td>\n",
       "      <td>133.000000</td>\n",
       "    </tr>\n",
       "    <tr>\n",
       "      <th>mean</th>\n",
       "      <td>1815.263158</td>\n",
       "      <td>248.407273</td>\n",
       "      <td>352.052632</td>\n",
       "      <td>7.045113</td>\n",
       "      <td>29.074662</td>\n",
       "      <td>12.917293</td>\n",
       "      <td>6336.300752</td>\n",
       "      <td>7.127820</td>\n",
       "      <td>23404.030075</td>\n",
       "      <td>3029.120301</td>\n",
       "      <td>0.957638</td>\n",
       "      <td>20.330827</td>\n",
       "      <td>0.729323</td>\n",
       "      <td>0.609023</td>\n",
       "      <td>0.436090</td>\n",
       "      <td>0.383459</td>\n",
       "      <td>0.315789</td>\n",
       "    </tr>\n",
       "    <tr>\n",
       "      <th>std</th>\n",
       "      <td>2449.074661</td>\n",
       "      <td>179.370879</td>\n",
       "      <td>479.060117</td>\n",
       "      <td>9.056108</td>\n",
       "      <td>12.417670</td>\n",
       "      <td>9.510795</td>\n",
       "      <td>9007.284726</td>\n",
       "      <td>3.158475</td>\n",
       "      <td>33995.636496</td>\n",
       "      <td>2393.414456</td>\n",
       "      <td>1.846756</td>\n",
       "      <td>74.111579</td>\n",
       "      <td>0.445989</td>\n",
       "      <td>0.489814</td>\n",
       "      <td>0.497774</td>\n",
       "      <td>0.488067</td>\n",
       "      <td>0.466587</td>\n",
       "    </tr>\n",
       "    <tr>\n",
       "      <th>min</th>\n",
       "      <td>0.000000</td>\n",
       "      <td>1.218629</td>\n",
       "      <td>0.000000</td>\n",
       "      <td>0.000000</td>\n",
       "      <td>8.110000</td>\n",
       "      <td>1.000000</td>\n",
       "      <td>1.000000</td>\n",
       "      <td>2.000000</td>\n",
       "      <td>3.000000</td>\n",
       "      <td>163.000000</td>\n",
       "      <td>0.000000</td>\n",
       "      <td>-13.000000</td>\n",
       "      <td>0.000000</td>\n",
       "      <td>0.000000</td>\n",
       "      <td>0.000000</td>\n",
       "      <td>0.000000</td>\n",
       "      <td>0.000000</td>\n",
       "    </tr>\n",
       "    <tr>\n",
       "      <th>25%</th>\n",
       "      <td>121.000000</td>\n",
       "      <td>74.543822</td>\n",
       "      <td>23.000000</td>\n",
       "      <td>0.000000</td>\n",
       "      <td>20.020000</td>\n",
       "      <td>8.000000</td>\n",
       "      <td>363.000000</td>\n",
       "      <td>5.000000</td>\n",
       "      <td>1375.000000</td>\n",
       "      <td>1653.000000</td>\n",
       "      <td>0.052115</td>\n",
       "      <td>0.000000</td>\n",
       "      <td>0.000000</td>\n",
       "      <td>0.000000</td>\n",
       "      <td>0.000000</td>\n",
       "      <td>0.000000</td>\n",
       "      <td>0.000000</td>\n",
       "    </tr>\n",
       "    <tr>\n",
       "      <th>50%</th>\n",
       "      <td>815.000000</td>\n",
       "      <td>245.416130</td>\n",
       "      <td>136.000000</td>\n",
       "      <td>4.000000</td>\n",
       "      <td>27.060000</td>\n",
       "      <td>10.000000</td>\n",
       "      <td>2049.000000</td>\n",
       "      <td>7.000000</td>\n",
       "      <td>7608.000000</td>\n",
       "      <td>2456.000000</td>\n",
       "      <td>0.421525</td>\n",
       "      <td>1.000000</td>\n",
       "      <td>1.000000</td>\n",
       "      <td>1.000000</td>\n",
       "      <td>0.000000</td>\n",
       "      <td>0.000000</td>\n",
       "      <td>0.000000</td>\n",
       "    </tr>\n",
       "    <tr>\n",
       "      <th>75%</th>\n",
       "      <td>2700.000000</td>\n",
       "      <td>376.080598</td>\n",
       "      <td>528.000000</td>\n",
       "      <td>12.000000</td>\n",
       "      <td>34.910000</td>\n",
       "      <td>14.000000</td>\n",
       "      <td>7815.000000</td>\n",
       "      <td>8.000000</td>\n",
       "      <td>30141.000000</td>\n",
       "      <td>3553.000000</td>\n",
       "      <td>1.099366</td>\n",
       "      <td>5.000000</td>\n",
       "      <td>1.000000</td>\n",
       "      <td>1.000000</td>\n",
       "      <td>1.000000</td>\n",
       "      <td>1.000000</td>\n",
       "      <td>1.000000</td>\n",
       "    </tr>\n",
       "    <tr>\n",
       "      <th>max</th>\n",
       "      <td>13600.000000</td>\n",
       "      <td>597.301123</td>\n",
       "      <td>2588.000000</td>\n",
       "      <td>59.000000</td>\n",
       "      <td>74.370000</td>\n",
       "      <td>54.000000</td>\n",
       "      <td>41978.000000</td>\n",
       "      <td>16.000000</td>\n",
       "      <td>173714.000000</td>\n",
       "      <td>15063.000000</td>\n",
       "      <td>17.891817</td>\n",
       "      <td>349.000000</td>\n",
       "      <td>1.000000</td>\n",
       "      <td>1.000000</td>\n",
       "      <td>1.000000</td>\n",
       "      <td>1.000000</td>\n",
       "      <td>1.000000</td>\n",
       "    </tr>\n",
       "  </tbody>\n",
       "</table>\n",
       "</div>"
      ],
      "text/plain": [
       "              claps  days_since_publication         fans  num_responses  \\\n",
       "count    133.000000              133.000000   133.000000     133.000000   \n",
       "mean    1815.263158              248.407273   352.052632       7.045113   \n",
       "std     2449.074661              179.370879   479.060117       9.056108   \n",
       "min        0.000000                1.218629     0.000000       0.000000   \n",
       "25%      121.000000               74.543822    23.000000       0.000000   \n",
       "50%      815.000000              245.416130   136.000000       4.000000   \n",
       "75%     2700.000000              376.080598   528.000000      12.000000   \n",
       "max    13600.000000              597.301123  2588.000000      59.000000   \n",
       "\n",
       "       read_ratio   read_time         reads  title_word_count          views  \\\n",
       "count  133.000000  133.000000    133.000000        133.000000     133.000000   \n",
       "mean    29.074662   12.917293   6336.300752          7.127820   23404.030075   \n",
       "std     12.417670    9.510795   9007.284726          3.158475   33995.636496   \n",
       "min      8.110000    1.000000      1.000000          2.000000       3.000000   \n",
       "25%     20.020000    8.000000    363.000000          5.000000    1375.000000   \n",
       "50%     27.060000   10.000000   2049.000000          7.000000    7608.000000   \n",
       "75%     34.910000   14.000000   7815.000000          8.000000   30141.000000   \n",
       "max     74.370000   54.000000  41978.000000         16.000000  173714.000000   \n",
       "\n",
       "         word_count  claps_per_word  editing_days  <tag>Education  \\\n",
       "count    133.000000      133.000000    133.000000      133.000000   \n",
       "mean    3029.120301        0.957638     20.330827        0.729323   \n",
       "std     2393.414456        1.846756     74.111579        0.445989   \n",
       "min      163.000000        0.000000    -13.000000        0.000000   \n",
       "25%     1653.000000        0.052115      0.000000        0.000000   \n",
       "50%     2456.000000        0.421525      1.000000        1.000000   \n",
       "75%     3553.000000        1.099366      5.000000        1.000000   \n",
       "max    15063.000000       17.891817    349.000000        1.000000   \n",
       "\n",
       "       <tag>Data Science  <tag>Towards Data Science  <tag>Machine Learning  \\\n",
       "count         133.000000                 133.000000             133.000000   \n",
       "mean            0.609023                   0.436090               0.383459   \n",
       "std             0.489814                   0.497774               0.488067   \n",
       "min             0.000000                   0.000000               0.000000   \n",
       "25%             0.000000                   0.000000               0.000000   \n",
       "50%             1.000000                   0.000000               0.000000   \n",
       "75%             1.000000                   1.000000               1.000000   \n",
       "max             1.000000                   1.000000               1.000000   \n",
       "\n",
       "       <tag>Python  \n",
       "count   133.000000  \n",
       "mean      0.315789  \n",
       "std       0.466587  \n",
       "min       0.000000  \n",
       "25%       0.000000  \n",
       "50%       0.000000  \n",
       "75%       1.000000  \n",
       "max       1.000000  "
      ]
     },
     "execution_count": 6,
     "metadata": {},
     "output_type": "execute_result"
    }
   ],
   "source": [
    "data.describe()"
   ]
  },
  {
   "cell_type": "code",
   "execution_count": 7,
   "id": "7cfd753c",
   "metadata": {},
   "outputs": [
    {
     "name": "stdout",
     "output_type": "stream",
     "text": [
      "<class 'pandas.core.frame.DataFrame'>\n",
      "Int64Index: 133 entries, 129 to 17\n",
      "Data columns (total 25 columns):\n",
      " #   Column                     Non-Null Count  Dtype         \n",
      "---  ------                     --------------  -----         \n",
      " 0   claps                      133 non-null    int64         \n",
      " 1   days_since_publication     133 non-null    float64       \n",
      " 2   fans                       133 non-null    int64         \n",
      " 3   link                       133 non-null    object        \n",
      " 4   num_responses              133 non-null    int64         \n",
      " 5   publication                133 non-null    object        \n",
      " 6   published_date             133 non-null    datetime64[ns]\n",
      " 7   read_ratio                 133 non-null    float64       \n",
      " 8   read_time                  133 non-null    int64         \n",
      " 9   reads                      133 non-null    int64         \n",
      " 10  started_date               133 non-null    datetime64[ns]\n",
      " 11  tags                       133 non-null    object        \n",
      " 12  text                       133 non-null    object        \n",
      " 13  title                      133 non-null    object        \n",
      " 14  title_word_count           133 non-null    int64         \n",
      " 15  type                       133 non-null    object        \n",
      " 16  views                      133 non-null    int64         \n",
      " 17  word_count                 133 non-null    int64         \n",
      " 18  claps_per_word             133 non-null    float64       \n",
      " 19  editing_days               133 non-null    int32         \n",
      " 20  <tag>Education             133 non-null    int64         \n",
      " 21  <tag>Data Science          133 non-null    int64         \n",
      " 22  <tag>Towards Data Science  133 non-null    int64         \n",
      " 23  <tag>Machine Learning      133 non-null    int64         \n",
      " 24  <tag>Python                133 non-null    int64         \n",
      "dtypes: datetime64[ns](2), float64(3), int32(1), int64(13), object(6)\n",
      "memory usage: 26.5+ KB\n"
     ]
    }
   ],
   "source": [
    "data.info()"
   ]
  },
  {
   "cell_type": "markdown",
   "id": "143bf833",
   "metadata": {},
   "source": [
    "Stwórz nowy DataFrame, z kolumnami: title, tags, published_date, publication, reads, views, word_count, claps, fans, read_time."
   ]
  },
  {
   "cell_type": "code",
   "execution_count": 8,
   "id": "15e3a035",
   "metadata": {},
   "outputs": [
    {
     "data": {
      "text/html": [
       "<div>\n",
       "<style scoped>\n",
       "    .dataframe tbody tr th:only-of-type {\n",
       "        vertical-align: middle;\n",
       "    }\n",
       "\n",
       "    .dataframe tbody tr th {\n",
       "        vertical-align: top;\n",
       "    }\n",
       "\n",
       "    .dataframe thead th {\n",
       "        text-align: right;\n",
       "    }\n",
       "</style>\n",
       "<table border=\"1\" class=\"dataframe\">\n",
       "  <thead>\n",
       "    <tr style=\"text-align: right;\">\n",
       "      <th></th>\n",
       "      <th>title</th>\n",
       "      <th>tags</th>\n",
       "      <th>published_date</th>\n",
       "      <th>publication</th>\n",
       "      <th>reads</th>\n",
       "      <th>views</th>\n",
       "      <th>word_count</th>\n",
       "      <th>claps</th>\n",
       "      <th>fans</th>\n",
       "      <th>read_time</th>\n",
       "    </tr>\n",
       "  </thead>\n",
       "  <tbody>\n",
       "    <tr>\n",
       "      <th>129</th>\n",
       "      <td>Screw the Environment, but Consider Your Wallet</td>\n",
       "      <td>[Climate Change, Economics]</td>\n",
       "      <td>2017-06-10 14:25:00</td>\n",
       "      <td>None</td>\n",
       "      <td>70</td>\n",
       "      <td>166</td>\n",
       "      <td>1859</td>\n",
       "      <td>2</td>\n",
       "      <td>2</td>\n",
       "      <td>7</td>\n",
       "    </tr>\n",
       "    <tr>\n",
       "      <th>125</th>\n",
       "      <td>The Vanquishing of War, Plague and Famine</td>\n",
       "      <td>[Climate Change, Humanity, Optimism, History]</td>\n",
       "      <td>2017-06-17 22:02:00</td>\n",
       "      <td>None</td>\n",
       "      <td>54</td>\n",
       "      <td>178</td>\n",
       "      <td>3891</td>\n",
       "      <td>18</td>\n",
       "      <td>3</td>\n",
       "      <td>14</td>\n",
       "    </tr>\n",
       "    <tr>\n",
       "      <th>132</th>\n",
       "      <td>Capstone Project: Mercedes-Benz Greener Manufa...</td>\n",
       "      <td>[Machine Learning, Python, Udacity, Kaggle]</td>\n",
       "      <td>2017-06-30 12:55:00</td>\n",
       "      <td>None</td>\n",
       "      <td>222</td>\n",
       "      <td>1109</td>\n",
       "      <td>12025</td>\n",
       "      <td>51</td>\n",
       "      <td>20</td>\n",
       "      <td>42</td>\n",
       "    </tr>\n",
       "    <tr>\n",
       "      <th>126</th>\n",
       "      <td>Home of the Scared</td>\n",
       "      <td>[Politics, Books, News, Media Criticism]</td>\n",
       "      <td>2017-07-01 09:08:00</td>\n",
       "      <td>None</td>\n",
       "      <td>19</td>\n",
       "      <td>53</td>\n",
       "      <td>2533</td>\n",
       "      <td>0</td>\n",
       "      <td>0</td>\n",
       "      <td>9</td>\n",
       "    </tr>\n",
       "    <tr>\n",
       "      <th>121</th>\n",
       "      <td>The Triumph of Peace</td>\n",
       "      <td>[Books, Psychology, History, Humanism]</td>\n",
       "      <td>2017-07-05 08:51:00</td>\n",
       "      <td>None</td>\n",
       "      <td>5</td>\n",
       "      <td>59</td>\n",
       "      <td>3892</td>\n",
       "      <td>0</td>\n",
       "      <td>0</td>\n",
       "      <td>14</td>\n",
       "    </tr>\n",
       "  </tbody>\n",
       "</table>\n",
       "</div>"
      ],
      "text/plain": [
       "                                                 title  \\\n",
       "129    Screw the Environment, but Consider Your Wallet   \n",
       "125          The Vanquishing of War, Plague and Famine   \n",
       "132  Capstone Project: Mercedes-Benz Greener Manufa...   \n",
       "126                                 Home of the Scared   \n",
       "121                               The Triumph of Peace   \n",
       "\n",
       "                                              tags      published_date  \\\n",
       "129                    [Climate Change, Economics] 2017-06-10 14:25:00   \n",
       "125  [Climate Change, Humanity, Optimism, History] 2017-06-17 22:02:00   \n",
       "132    [Machine Learning, Python, Udacity, Kaggle] 2017-06-30 12:55:00   \n",
       "126       [Politics, Books, News, Media Criticism] 2017-07-01 09:08:00   \n",
       "121         [Books, Psychology, History, Humanism] 2017-07-05 08:51:00   \n",
       "\n",
       "    publication  reads  views  word_count  claps  fans  read_time  \n",
       "129        None     70    166        1859      2     2          7  \n",
       "125        None     54    178        3891     18     3         14  \n",
       "132        None    222   1109       12025     51    20         42  \n",
       "126        None     19     53        2533      0     0          9  \n",
       "121        None      5     59        3892      0     0         14  "
      ]
     },
     "execution_count": 8,
     "metadata": {},
     "output_type": "execute_result"
    }
   ],
   "source": [
    "df_data = [data['title'], data['tags'], data['published_date'], data['publication'], data['reads'], data['views'], data['word_count'], data['claps'], data['fans'], data['read_time']]\n",
    "df_headers = ['title', 'tags', 'published_date', 'publication', 'reads', 'views', 'word_count', 'claps', 'fans', 'read_time']\n",
    "df = pd.concat(df_data, axis=1, keys = df_headers)\n",
    "df.head()"
   ]
  },
  {
   "cell_type": "markdown",
   "id": "0945752d",
   "metadata": {},
   "source": [
    "## Wyświetlanie danych"
   ]
  },
  {
   "cell_type": "markdown",
   "id": "69495733",
   "metadata": {},
   "source": [
    "Za pomocą *.loc* wyświetl artykuły, które zostały przeczytane więcej niż 1000 razy."
   ]
  },
  {
   "cell_type": "code",
   "execution_count": 9,
   "id": "ee6bb012",
   "metadata": {},
   "outputs": [
    {
     "data": {
      "text/html": [
       "<div>\n",
       "<style scoped>\n",
       "    .dataframe tbody tr th:only-of-type {\n",
       "        vertical-align: middle;\n",
       "    }\n",
       "\n",
       "    .dataframe tbody tr th {\n",
       "        vertical-align: top;\n",
       "    }\n",
       "\n",
       "    .dataframe thead th {\n",
       "        text-align: right;\n",
       "    }\n",
       "</style>\n",
       "<table border=\"1\" class=\"dataframe\">\n",
       "  <thead>\n",
       "    <tr style=\"text-align: right;\">\n",
       "      <th></th>\n",
       "      <th>title</th>\n",
       "      <th>tags</th>\n",
       "      <th>published_date</th>\n",
       "      <th>publication</th>\n",
       "      <th>reads</th>\n",
       "      <th>views</th>\n",
       "      <th>word_count</th>\n",
       "      <th>claps</th>\n",
       "      <th>fans</th>\n",
       "      <th>read_time</th>\n",
       "    </tr>\n",
       "  </thead>\n",
       "  <tbody>\n",
       "    <tr>\n",
       "      <th>131</th>\n",
       "      <td>Deep Neural Network Classifier</td>\n",
       "      <td>[Machine Learning, Neural Networks, TensorFlow...</td>\n",
       "      <td>2017-07-25 17:54:00</td>\n",
       "      <td>None</td>\n",
       "      <td>1717</td>\n",
       "      <td>9723</td>\n",
       "      <td>1778</td>\n",
       "      <td>73</td>\n",
       "      <td>20</td>\n",
       "      <td>14</td>\n",
       "    </tr>\n",
       "    <tr>\n",
       "      <th>122</th>\n",
       "      <td>Object Recognition with Google’s Convolutional...</td>\n",
       "      <td>[Machine Learning, Neural Networks, Python, Ob...</td>\n",
       "      <td>2017-07-27 21:17:00</td>\n",
       "      <td>None</td>\n",
       "      <td>5690</td>\n",
       "      <td>24079</td>\n",
       "      <td>2345</td>\n",
       "      <td>240</td>\n",
       "      <td>56</td>\n",
       "      <td>12</td>\n",
       "    </tr>\n",
       "    <tr>\n",
       "      <th>127</th>\n",
       "      <td>Facial Recognition Using Google’s Convolutiona...</td>\n",
       "      <td>[Machine Learning, Python, Neural Networks, Fa...</td>\n",
       "      <td>2017-08-07 14:24:00</td>\n",
       "      <td>None</td>\n",
       "      <td>3992</td>\n",
       "      <td>28387</td>\n",
       "      <td>6666</td>\n",
       "      <td>704</td>\n",
       "      <td>76</td>\n",
       "      <td>38</td>\n",
       "    </tr>\n",
       "    <tr>\n",
       "      <th>107</th>\n",
       "      <td>Controlling your Location in Google Chrome</td>\n",
       "      <td>[Privacy, Security, Google, Internet]</td>\n",
       "      <td>2017-08-15 14:02:00</td>\n",
       "      <td>None</td>\n",
       "      <td>2734</td>\n",
       "      <td>9589</td>\n",
       "      <td>1214</td>\n",
       "      <td>5</td>\n",
       "      <td>5</td>\n",
       "      <td>6</td>\n",
       "    </tr>\n",
       "    <tr>\n",
       "      <th>112</th>\n",
       "      <td>Machine Learning with Python on the Enron Dataset</td>\n",
       "      <td>[Machine Learning, Python, Udacity, Data Analy...</td>\n",
       "      <td>2017-08-20 17:06:00</td>\n",
       "      <td>None</td>\n",
       "      <td>2049</td>\n",
       "      <td>13367</td>\n",
       "      <td>6800</td>\n",
       "      <td>167</td>\n",
       "      <td>32</td>\n",
       "      <td>31</td>\n",
       "    </tr>\n",
       "    <tr>\n",
       "      <th>...</th>\n",
       "      <td>...</td>\n",
       "      <td>...</td>\n",
       "      <td>...</td>\n",
       "      <td>...</td>\n",
       "      <td>...</td>\n",
       "      <td>...</td>\n",
       "      <td>...</td>\n",
       "      <td>...</td>\n",
       "      <td>...</td>\n",
       "      <td>...</td>\n",
       "    </tr>\n",
       "    <tr>\n",
       "      <th>24</th>\n",
       "      <td>Docker for Data Science Without the Hassle</td>\n",
       "      <td>[Docker, Data Science, Open Source, Education,...</td>\n",
       "      <td>2018-12-17 20:04:00</td>\n",
       "      <td>Towards Data Science</td>\n",
       "      <td>2135</td>\n",
       "      <td>6766</td>\n",
       "      <td>1075</td>\n",
       "      <td>730</td>\n",
       "      <td>187</td>\n",
       "      <td>5</td>\n",
       "    </tr>\n",
       "    <tr>\n",
       "      <th>12</th>\n",
       "      <td>The Copernican Principle and How to Use Statis...</td>\n",
       "      <td>[Science, Towards Data Science, Education, Sta...</td>\n",
       "      <td>2018-12-29 11:36:00</td>\n",
       "      <td>Towards Data Science</td>\n",
       "      <td>1517</td>\n",
       "      <td>5070</td>\n",
       "      <td>1898</td>\n",
       "      <td>730</td>\n",
       "      <td>155</td>\n",
       "      <td>8</td>\n",
       "    </tr>\n",
       "    <tr>\n",
       "      <th>19</th>\n",
       "      <td>The Next Level of Data Visualization in Python</td>\n",
       "      <td>[Data Science, Data Visualization, Python, Edu...</td>\n",
       "      <td>2019-01-08 22:09:00</td>\n",
       "      <td>Towards Data Science</td>\n",
       "      <td>24002</td>\n",
       "      <td>71225</td>\n",
       "      <td>1457</td>\n",
       "      <td>7600</td>\n",
       "      <td>1697</td>\n",
       "      <td>8</td>\n",
       "    </tr>\n",
       "    <tr>\n",
       "      <th>2</th>\n",
       "      <td>A Non-Technical Reading List for Data Science</td>\n",
       "      <td>[Data Science, Reading, Education, Towards Dat...</td>\n",
       "      <td>2019-01-10 15:14:00</td>\n",
       "      <td>Towards Data Science</td>\n",
       "      <td>2809</td>\n",
       "      <td>15291</td>\n",
       "      <td>3715</td>\n",
       "      <td>1800</td>\n",
       "      <td>369</td>\n",
       "      <td>15</td>\n",
       "    </tr>\n",
       "    <tr>\n",
       "      <th>5</th>\n",
       "      <td>The Poisson Distribution and Poisson Process E...</td>\n",
       "      <td>[Statistics, Data Science, Towards Data Scienc...</td>\n",
       "      <td>2019-01-20 16:28:00</td>\n",
       "      <td>Towards Data Science</td>\n",
       "      <td>2320</td>\n",
       "      <td>8806</td>\n",
       "      <td>3371</td>\n",
       "      <td>2000</td>\n",
       "      <td>356</td>\n",
       "      <td>14</td>\n",
       "    </tr>\n",
       "  </tbody>\n",
       "</table>\n",
       "<p>86 rows × 10 columns</p>\n",
       "</div>"
      ],
      "text/plain": [
       "                                                 title  \\\n",
       "131                     Deep Neural Network Classifier   \n",
       "122  Object Recognition with Google’s Convolutional...   \n",
       "127  Facial Recognition Using Google’s Convolutiona...   \n",
       "107         Controlling your Location in Google Chrome   \n",
       "112  Machine Learning with Python on the Enron Dataset   \n",
       "..                                                 ...   \n",
       "24          Docker for Data Science Without the Hassle   \n",
       "12   The Copernican Principle and How to Use Statis...   \n",
       "19      The Next Level of Data Visualization in Python   \n",
       "2        A Non-Technical Reading List for Data Science   \n",
       "5    The Poisson Distribution and Poisson Process E...   \n",
       "\n",
       "                                                  tags      published_date  \\\n",
       "131  [Machine Learning, Neural Networks, TensorFlow... 2017-07-25 17:54:00   \n",
       "122  [Machine Learning, Neural Networks, Python, Ob... 2017-07-27 21:17:00   \n",
       "127  [Machine Learning, Python, Neural Networks, Fa... 2017-08-07 14:24:00   \n",
       "107              [Privacy, Security, Google, Internet] 2017-08-15 14:02:00   \n",
       "112  [Machine Learning, Python, Udacity, Data Analy... 2017-08-20 17:06:00   \n",
       "..                                                 ...                 ...   \n",
       "24   [Docker, Data Science, Open Source, Education,... 2018-12-17 20:04:00   \n",
       "12   [Science, Towards Data Science, Education, Sta... 2018-12-29 11:36:00   \n",
       "19   [Data Science, Data Visualization, Python, Edu... 2019-01-08 22:09:00   \n",
       "2    [Data Science, Reading, Education, Towards Dat... 2019-01-10 15:14:00   \n",
       "5    [Statistics, Data Science, Towards Data Scienc... 2019-01-20 16:28:00   \n",
       "\n",
       "              publication  reads  views  word_count  claps  fans  read_time  \n",
       "131                  None   1717   9723        1778     73    20         14  \n",
       "122                  None   5690  24079        2345    240    56         12  \n",
       "127                  None   3992  28387        6666    704    76         38  \n",
       "107                  None   2734   9589        1214      5     5          6  \n",
       "112                  None   2049  13367        6800    167    32         31  \n",
       "..                    ...    ...    ...         ...    ...   ...        ...  \n",
       "24   Towards Data Science   2135   6766        1075    730   187          5  \n",
       "12   Towards Data Science   1517   5070        1898    730   155          8  \n",
       "19   Towards Data Science  24002  71225        1457   7600  1697          8  \n",
       "2    Towards Data Science   2809  15291        3715   1800   369         15  \n",
       "5    Towards Data Science   2320   8806        3371   2000   356         14  \n",
       "\n",
       "[86 rows x 10 columns]"
      ]
     },
     "execution_count": 9,
     "metadata": {},
     "output_type": "execute_result"
    }
   ],
   "source": [
    "df.loc[df['reads']>1000]"
   ]
  },
  {
   "cell_type": "markdown",
   "id": "2ee83a73",
   "metadata": {},
   "source": [
    "Teraz za pomocą *.loc* wyświetl artykuły, które zostały przeczytane więcej niż 500 razy."
   ]
  },
  {
   "cell_type": "code",
   "execution_count": 10,
   "id": "29656655",
   "metadata": {},
   "outputs": [
    {
     "data": {
      "text/html": [
       "<div>\n",
       "<style scoped>\n",
       "    .dataframe tbody tr th:only-of-type {\n",
       "        vertical-align: middle;\n",
       "    }\n",
       "\n",
       "    .dataframe tbody tr th {\n",
       "        vertical-align: top;\n",
       "    }\n",
       "\n",
       "    .dataframe thead th {\n",
       "        text-align: right;\n",
       "    }\n",
       "</style>\n",
       "<table border=\"1\" class=\"dataframe\">\n",
       "  <thead>\n",
       "    <tr style=\"text-align: right;\">\n",
       "      <th></th>\n",
       "      <th>title</th>\n",
       "      <th>tags</th>\n",
       "      <th>published_date</th>\n",
       "      <th>publication</th>\n",
       "      <th>reads</th>\n",
       "      <th>views</th>\n",
       "      <th>word_count</th>\n",
       "      <th>claps</th>\n",
       "      <th>fans</th>\n",
       "      <th>read_time</th>\n",
       "    </tr>\n",
       "  </thead>\n",
       "  <tbody>\n",
       "    <tr>\n",
       "      <th>131</th>\n",
       "      <td>Deep Neural Network Classifier</td>\n",
       "      <td>[Machine Learning, Neural Networks, TensorFlow...</td>\n",
       "      <td>2017-07-25 17:54:00</td>\n",
       "      <td>None</td>\n",
       "      <td>1717</td>\n",
       "      <td>9723</td>\n",
       "      <td>1778</td>\n",
       "      <td>73</td>\n",
       "      <td>20</td>\n",
       "      <td>14</td>\n",
       "    </tr>\n",
       "    <tr>\n",
       "      <th>122</th>\n",
       "      <td>Object Recognition with Google’s Convolutional...</td>\n",
       "      <td>[Machine Learning, Neural Networks, Python, Ob...</td>\n",
       "      <td>2017-07-27 21:17:00</td>\n",
       "      <td>None</td>\n",
       "      <td>5690</td>\n",
       "      <td>24079</td>\n",
       "      <td>2345</td>\n",
       "      <td>240</td>\n",
       "      <td>56</td>\n",
       "      <td>12</td>\n",
       "    </tr>\n",
       "    <tr>\n",
       "      <th>127</th>\n",
       "      <td>Facial Recognition Using Google’s Convolutiona...</td>\n",
       "      <td>[Machine Learning, Python, Neural Networks, Fa...</td>\n",
       "      <td>2017-08-07 14:24:00</td>\n",
       "      <td>None</td>\n",
       "      <td>3992</td>\n",
       "      <td>28387</td>\n",
       "      <td>6666</td>\n",
       "      <td>704</td>\n",
       "      <td>76</td>\n",
       "      <td>38</td>\n",
       "    </tr>\n",
       "    <tr>\n",
       "      <th>124</th>\n",
       "      <td>Exploratory Data Analysis with R</td>\n",
       "      <td>[Data Science, R Programming, Data Analysis, U...</td>\n",
       "      <td>2017-08-08 12:58:00</td>\n",
       "      <td>None</td>\n",
       "      <td>509</td>\n",
       "      <td>4174</td>\n",
       "      <td>7559</td>\n",
       "      <td>58</td>\n",
       "      <td>13</td>\n",
       "      <td>43</td>\n",
       "    </tr>\n",
       "    <tr>\n",
       "      <th>119</th>\n",
       "      <td>Data Analysis with Python</td>\n",
       "      <td>[Python, Data Analysis, Data Visualization, Ba...</td>\n",
       "      <td>2017-08-12 15:17:00</td>\n",
       "      <td>None</td>\n",
       "      <td>664</td>\n",
       "      <td>5581</td>\n",
       "      <td>5508</td>\n",
       "      <td>87</td>\n",
       "      <td>17</td>\n",
       "      <td>29</td>\n",
       "    </tr>\n",
       "    <tr>\n",
       "      <th>...</th>\n",
       "      <td>...</td>\n",
       "      <td>...</td>\n",
       "      <td>...</td>\n",
       "      <td>...</td>\n",
       "      <td>...</td>\n",
       "      <td>...</td>\n",
       "      <td>...</td>\n",
       "      <td>...</td>\n",
       "      <td>...</td>\n",
       "      <td>...</td>\n",
       "    </tr>\n",
       "    <tr>\n",
       "      <th>12</th>\n",
       "      <td>The Copernican Principle and How to Use Statis...</td>\n",
       "      <td>[Science, Towards Data Science, Education, Sta...</td>\n",
       "      <td>2018-12-29 11:36:00</td>\n",
       "      <td>Towards Data Science</td>\n",
       "      <td>1517</td>\n",
       "      <td>5070</td>\n",
       "      <td>1898</td>\n",
       "      <td>730</td>\n",
       "      <td>155</td>\n",
       "      <td>8</td>\n",
       "    </tr>\n",
       "    <tr>\n",
       "      <th>8</th>\n",
       "      <td>Data Science with Medium Story Stats in Python</td>\n",
       "      <td>[Data Science, Towards Data Science, Python, E...</td>\n",
       "      <td>2018-12-31 17:53:00</td>\n",
       "      <td>Towards Data Science</td>\n",
       "      <td>754</td>\n",
       "      <td>3768</td>\n",
       "      <td>2813</td>\n",
       "      <td>582</td>\n",
       "      <td>109</td>\n",
       "      <td>12</td>\n",
       "    </tr>\n",
       "    <tr>\n",
       "      <th>19</th>\n",
       "      <td>The Next Level of Data Visualization in Python</td>\n",
       "      <td>[Data Science, Data Visualization, Python, Edu...</td>\n",
       "      <td>2019-01-08 22:09:00</td>\n",
       "      <td>Towards Data Science</td>\n",
       "      <td>24002</td>\n",
       "      <td>71225</td>\n",
       "      <td>1457</td>\n",
       "      <td>7600</td>\n",
       "      <td>1697</td>\n",
       "      <td>8</td>\n",
       "    </tr>\n",
       "    <tr>\n",
       "      <th>2</th>\n",
       "      <td>A Non-Technical Reading List for Data Science</td>\n",
       "      <td>[Data Science, Reading, Education, Towards Dat...</td>\n",
       "      <td>2019-01-10 15:14:00</td>\n",
       "      <td>Towards Data Science</td>\n",
       "      <td>2809</td>\n",
       "      <td>15291</td>\n",
       "      <td>3715</td>\n",
       "      <td>1800</td>\n",
       "      <td>369</td>\n",
       "      <td>15</td>\n",
       "    </tr>\n",
       "    <tr>\n",
       "      <th>5</th>\n",
       "      <td>The Poisson Distribution and Poisson Process E...</td>\n",
       "      <td>[Statistics, Data Science, Towards Data Scienc...</td>\n",
       "      <td>2019-01-20 16:28:00</td>\n",
       "      <td>Towards Data Science</td>\n",
       "      <td>2320</td>\n",
       "      <td>8806</td>\n",
       "      <td>3371</td>\n",
       "      <td>2000</td>\n",
       "      <td>356</td>\n",
       "      <td>14</td>\n",
       "    </tr>\n",
       "  </tbody>\n",
       "</table>\n",
       "<p>94 rows × 10 columns</p>\n",
       "</div>"
      ],
      "text/plain": [
       "                                                 title  \\\n",
       "131                     Deep Neural Network Classifier   \n",
       "122  Object Recognition with Google’s Convolutional...   \n",
       "127  Facial Recognition Using Google’s Convolutiona...   \n",
       "124                   Exploratory Data Analysis with R   \n",
       "119                          Data Analysis with Python   \n",
       "..                                                 ...   \n",
       "12   The Copernican Principle and How to Use Statis...   \n",
       "8       Data Science with Medium Story Stats in Python   \n",
       "19      The Next Level of Data Visualization in Python   \n",
       "2        A Non-Technical Reading List for Data Science   \n",
       "5    The Poisson Distribution and Poisson Process E...   \n",
       "\n",
       "                                                  tags      published_date  \\\n",
       "131  [Machine Learning, Neural Networks, TensorFlow... 2017-07-25 17:54:00   \n",
       "122  [Machine Learning, Neural Networks, Python, Ob... 2017-07-27 21:17:00   \n",
       "127  [Machine Learning, Python, Neural Networks, Fa... 2017-08-07 14:24:00   \n",
       "124  [Data Science, R Programming, Data Analysis, U... 2017-08-08 12:58:00   \n",
       "119  [Python, Data Analysis, Data Visualization, Ba... 2017-08-12 15:17:00   \n",
       "..                                                 ...                 ...   \n",
       "12   [Science, Towards Data Science, Education, Sta... 2018-12-29 11:36:00   \n",
       "8    [Data Science, Towards Data Science, Python, E... 2018-12-31 17:53:00   \n",
       "19   [Data Science, Data Visualization, Python, Edu... 2019-01-08 22:09:00   \n",
       "2    [Data Science, Reading, Education, Towards Dat... 2019-01-10 15:14:00   \n",
       "5    [Statistics, Data Science, Towards Data Scienc... 2019-01-20 16:28:00   \n",
       "\n",
       "              publication  reads  views  word_count  claps  fans  read_time  \n",
       "131                  None   1717   9723        1778     73    20         14  \n",
       "122                  None   5690  24079        2345    240    56         12  \n",
       "127                  None   3992  28387        6666    704    76         38  \n",
       "124                  None    509   4174        7559     58    13         43  \n",
       "119                  None    664   5581        5508     87    17         29  \n",
       "..                    ...    ...    ...         ...    ...   ...        ...  \n",
       "12   Towards Data Science   1517   5070        1898    730   155          8  \n",
       "8    Towards Data Science    754   3768        2813    582   109         12  \n",
       "19   Towards Data Science  24002  71225        1457   7600  1697          8  \n",
       "2    Towards Data Science   2809  15291        3715   1800   369         15  \n",
       "5    Towards Data Science   2320   8806        3371   2000   356         14  \n",
       "\n",
       "[94 rows x 10 columns]"
      ]
     },
     "execution_count": 10,
     "metadata": {},
     "output_type": "execute_result"
    }
   ],
   "source": [
    "df.loc[df['reads']>500]"
   ]
  },
  {
   "cell_type": "markdown",
   "id": "8e3a7fd1",
   "metadata": {},
   "source": [
    "To najprostszy przykład pokazujący, że interaktywna zmiana parametrów jest potrzebna, by usprawnić proces analizy danych. \\\n",
    "Można to zrobić na przykład za pomocą specjalnej metody, z dekoratorem *@interact*:"
   ]
  },
  {
   "cell_type": "code",
   "execution_count": 11,
   "id": "fedb5c76",
   "metadata": {},
   "outputs": [],
   "source": [
    "from IPython.display import display, HTML"
   ]
  },
  {
   "cell_type": "code",
   "execution_count": 12,
   "id": "33200c61",
   "metadata": {},
   "outputs": [
    {
     "data": {
      "application/vnd.jupyter.widget-view+json": {
       "model_id": "7bab5c7285af499f9bdb4809d85173b0",
       "version_major": 2,
       "version_minor": 0
      },
      "text/plain": [
       "interactive(children=(Text(value='claps', description='column'), IntSlider(value=5000, description='x', max=15…"
      ]
     },
     "metadata": {},
     "output_type": "display_data"
    }
   ],
   "source": [
    "@interact\n",
    "def show_articles_more_than(column='claps', x=5000):\n",
    "    display(HTML(f'<h3>Showing articles with more than {x} {column}<h3>'))\n",
    "    display(df.loc[df[column] > x])"
   ]
  },
  {
   "cell_type": "markdown",
   "id": "0a740351",
   "metadata": {},
   "source": [
    "Dokumentacja [Interact](https://ipywidgets.readthedocs.io/en/stable/examples/Using%20Interact.html). Tłumaczy m. in., w jaki sposób parametry funkcji są mapowane do widgetów.\n",
    "\n",
    "Zauważ, że dekorator *@interact* automatycznie wywnioskował, że potrzebujemy pola tekstowego dla kolumny i suwaka int dla x. \n",
    "\n",
    "Gdy potrzebujemy wymusić pewne ograniczenia interakcji, możemy ustawić dodatkowe opcje tworzonej funkcji, takie jak *dropdown* czy granice dla wielkości numerycznych - format to (start, stop, krok):"
   ]
  },
  {
   "cell_type": "code",
   "execution_count": 13,
   "id": "538e2615",
   "metadata": {},
   "outputs": [
    {
     "data": {
      "application/vnd.jupyter.widget-view+json": {
       "model_id": "a770c9ae21a641b185db6f9ad013ed28",
       "version_major": 2,
       "version_minor": 0
      },
      "text/plain": [
       "interactive(children=(Dropdown(description='column', options=('reads', 'views', 'word_count', 'claps', 'fans',…"
      ]
     },
     "metadata": {},
     "output_type": "display_data"
    }
   ],
   "source": [
    "@interact\n",
    "def show_titles_more_than(column=list(df.select_dtypes('number').columns), \n",
    "                          x=(1000, 5000, 100)):\n",
    "    display(HTML(f'<h3>Showing articles with more than {x} {column}<h3>'))\n",
    "    display(df.loc[df[column] > x])"
   ]
  },
  {
   "cell_type": "markdown",
   "id": "85f5772b",
   "metadata": {},
   "source": [
    "## Dataframe explorer"
   ]
  },
  {
   "cell_type": "markdown",
   "id": "1bf1a4b9",
   "metadata": {},
   "source": [
    "Stwórz funkcję z dekoratorem *@interact*, żeby szybko znajdować korelację między dwoma wybranymi kolumnami."
   ]
  },
  {
   "cell_type": "code",
   "execution_count": 14,
   "id": "c8472339",
   "metadata": {},
   "outputs": [
    {
     "data": {
      "application/vnd.jupyter.widget-view+json": {
       "model_id": "bc5fc52d1f154e159cd667617f43a98d",
       "version_major": 2,
       "version_minor": 0
      },
      "text/plain": [
       "interactive(children=(Dropdown(description='column1', options=('reads', 'views', 'word_count', 'claps', 'fans'…"
      ]
     },
     "metadata": {},
     "output_type": "display_data"
    }
   ],
   "source": [
    "@interact\n",
    "def column_correlation(column1=list(df.select_dtypes('number').columns),\n",
    "                            column2=list(df.select_dtypes('number').columns)):\n",
    "    display(HTML(f'Correlation: {df[column1].corr(df[column2])} '))"
   ]
  },
  {
   "cell_type": "markdown",
   "id": "c5bbe64d",
   "metadata": {},
   "source": [
    "Stwórz funkcję z dekoratorem *@interact*, żeby wywołać funkcję *describe()* dla wybranej kolumny."
   ]
  },
  {
   "cell_type": "code",
   "execution_count": 15,
   "id": "2f0b7d72",
   "metadata": {},
   "outputs": [
    {
     "data": {
      "application/vnd.jupyter.widget-view+json": {
       "model_id": "7747446a665b4f2b904a5523ec3aab83",
       "version_major": 2,
       "version_minor": 0
      },
      "text/plain": [
       "interactive(children=(Dropdown(description='column', options=('reads', 'views', 'word_count', 'claps', 'fans',…"
      ]
     },
     "metadata": {},
     "output_type": "display_data"
    }
   ],
   "source": [
    "@interact\n",
    "def describe_column(column=list(df.select_dtypes('number').columns)):\n",
    "    display(HTML(f'describe() chosen column <br>: {df[column].describe()}  '))"
   ]
  },
  {
   "cell_type": "markdown",
   "id": "418c04e1",
   "metadata": {},
   "source": [
    "## Widgety dla wykresów\n",
    "Widgety interaktywne są szczególnie przydatne przy wybieraniu danych do wykresu. W tym wypadku również możemy użyć tego samego dekoratora *@interact*, z funkcjami wizualizującymi nasze dane.\n",
    "\n",
    "**Uwaga.** Obiekt DataFrame nie ma metody iplot, jeśli nie jest połączony z plotly. Potrzebujemy **cufflinks**, aby połączyć pandas z plotly i dodać metodę iplot."
   ]
  },
  {
   "cell_type": "markdown",
   "id": "549b53e5",
   "metadata": {},
   "source": [
    "Dodatkowo, aby uniknąć uwierzytelniania, potrzebujemy trybu offline."
   ]
  },
  {
   "cell_type": "code",
   "execution_count": 16,
   "id": "2a8ae9e6",
   "metadata": {},
   "outputs": [
    {
     "data": {
      "text/html": [
       "        <script type=\"text/javascript\">\n",
       "        window.PlotlyConfig = {MathJaxConfig: 'local'};\n",
       "        if (window.MathJax) {MathJax.Hub.Config({SVG: {font: \"STIX-Web\"}});}\n",
       "        if (typeof require !== 'undefined') {\n",
       "        require.undef(\"plotly\");\n",
       "        requirejs.config({\n",
       "            paths: {\n",
       "                'plotly': ['https://cdn.plot.ly/plotly-2.8.3.min']\n",
       "            }\n",
       "        });\n",
       "        require(['plotly'], function(Plotly) {\n",
       "            window._Plotly = Plotly;\n",
       "        });\n",
       "        }\n",
       "        </script>\n",
       "        "
      ]
     },
     "metadata": {},
     "output_type": "display_data"
    }
   ],
   "source": [
    "import cufflinks as cf\n",
    "cf.go_offline(connected=True)\n",
    "cf.set_config_file(colorscale='plotly', world_readable=True)"
   ]
  },
  {
   "cell_type": "code",
   "execution_count": 17,
   "id": "d684471e",
   "metadata": {},
   "outputs": [
    {
     "data": {
      "text/html": [
       "        <script type=\"text/javascript\">\n",
       "        window.PlotlyConfig = {MathJaxConfig: 'local'};\n",
       "        if (window.MathJax) {MathJax.Hub.Config({SVG: {font: \"STIX-Web\"}});}\n",
       "        if (typeof require !== 'undefined') {\n",
       "        require.undef(\"plotly\");\n",
       "        requirejs.config({\n",
       "            paths: {\n",
       "                'plotly': ['https://cdn.plot.ly/plotly-2.8.3.min']\n",
       "            }\n",
       "        });\n",
       "        require(['plotly'], function(Plotly) {\n",
       "            window._Plotly = Plotly;\n",
       "        });\n",
       "        }\n",
       "        </script>\n",
       "        "
      ]
     },
     "metadata": {},
     "output_type": "display_data"
    }
   ],
   "source": [
    "from plotly.offline import iplot, init_notebook_mode\n",
    "init_notebook_mode(connected=True)"
   ]
  },
  {
   "cell_type": "code",
   "execution_count": 18,
   "id": "65bf1945",
   "metadata": {},
   "outputs": [
    {
     "data": {
      "application/vnd.jupyter.widget-view+json": {
       "model_id": "92c63e718f7a4665bd1316689bb5e559",
       "version_major": 2,
       "version_minor": 0
      },
      "text/plain": [
       "interactive(children=(Dropdown(description='x', options=('reads', 'views', 'word_count', 'claps', 'fans', 'rea…"
      ]
     },
     "metadata": {},
     "output_type": "display_data"
    }
   ],
   "source": [
    "@interact\n",
    "def scatter_plot(x=list(df.select_dtypes('number').columns), \n",
    "                 y=list(df.select_dtypes('number').columns)[1:]):\n",
    "    df.iplot(kind='scatter', x=x, y=y, mode='markers', \n",
    "             xTitle=x.title(), yTitle=y.title(), title=f'{y.title()} vs {x.title()}')"
   ]
  },
  {
   "cell_type": "markdown",
   "id": "1af78359",
   "metadata": {},
   "source": [
    "Dodaj więcej opcji do funkcji scatter_plot:\n",
    "1. Parametr theme, korzystając z tych dostępnych w cf.themes.THEMES.keys()\n",
    "2. Parametr colorscale, korzystając z tych dostępnych w cf.colors.\\_scales\\_names.keys())"
   ]
  },
  {
   "cell_type": "code",
   "execution_count": 19,
   "id": "3d97ffc3",
   "metadata": {},
   "outputs": [
    {
     "data": {
      "application/vnd.jupyter.widget-view+json": {
       "model_id": "e63adbe913674e81ae51821d1f46b35a",
       "version_major": 2,
       "version_minor": 0
      },
      "text/plain": [
       "interactive(children=(Dropdown(description='x', options=('reads', 'views', 'word_count', 'claps', 'fans', 'rea…"
      ]
     },
     "metadata": {},
     "output_type": "display_data"
    }
   ],
   "source": [
    "@interact\n",
    "def scatter_plot(x=list(df.select_dtypes('number').columns), \n",
    "                 y=list(df.select_dtypes('number').columns)[1:],\n",
    "                 theme = list(cf.themes.THEMES.keys()),\n",
    "                 colorscale=list(cf.colors._scales_names.keys())):\n",
    "    df.iplot(kind='scatter', x=x, y=y, mode='markers', \n",
    "             xTitle=x.title(), yTitle=y.title(), title=f'{y.title()} vs {x.title()}',\n",
    "             theme=theme, colorscale=colorscale)"
   ]
  },
  {
   "cell_type": "markdown",
   "id": "d5670ecf",
   "metadata": {},
   "source": [
    "Do funkcji scatter_plot dodaj parametr categories, grupujący nasze dane. Przetestuj jego działanie."
   ]
  },
  {
   "cell_type": "code",
   "execution_count": 20,
   "id": "09b7b81c",
   "metadata": {},
   "outputs": [],
   "source": [
    "df['binned_read_time'] = pd.cut(df['read_time'], bins=range(0, 56, 5))\n",
    "df['binned_read_time'] = df['binned_read_time'].astype(str)\n",
    "\n",
    "df['binned_word_count'] = pd.cut(df['word_count'], bins=range(0, 100001, 1000))\n",
    "df['binned_word_count'] = df['binned_word_count'].astype(str)\n",
    "\n",
    "categories=['binned_read_time', 'binned_word_count', 'publication']"
   ]
  },
  {
   "cell_type": "code",
   "execution_count": 21,
   "id": "3eb05c12",
   "metadata": {},
   "outputs": [
    {
     "data": {
      "application/vnd.jupyter.widget-view+json": {
       "model_id": "ca5df143e6b84eb5a6321c69acda15f9",
       "version_major": 2,
       "version_minor": 0
      },
      "text/plain": [
       "interactive(children=(Dropdown(description='x', options=('reads', 'views', 'word_count', 'claps', 'fans', 'rea…"
      ]
     },
     "metadata": {},
     "output_type": "display_data"
    }
   ],
   "source": [
    "@interact\n",
    "def scatter_plot(x=list(df.select_dtypes('number').columns), \n",
    "                 y=list(df.select_dtypes('number').columns)[1:],\n",
    "                 theme = list(cf.themes.THEMES.keys()),\n",
    "                 colorscale=list(cf.colors._scales_names.keys()),\n",
    "                 categories=['binned_read_time', 'binned_word_count', 'publication']):\n",
    "    df.iplot(kind='scatter', x=x, y=y, mode='markers', \n",
    "             xTitle=x.title(), yTitle=y.title(), title=f'{y.title()} vs {x.title()}',\n",
    "             theme=theme, colorscale=colorscale, categories=categories)"
   ]
  },
  {
   "cell_type": "markdown",
   "id": "8ffe72a8",
   "metadata": {},
   "source": [
    "Być może zauważyłeś, że aktualizacja wykresu przebiegała powoli. W takim przypadku możesz użyć dekoratora *@interact_manual*, który dostarcza przycisku do aktualizacji. \n",
    "\n",
    "Sprawdź działanie widgetu z dekoratorem *@interact_manual*."
   ]
  },
  {
   "cell_type": "code",
   "execution_count": 22,
   "id": "10f75ad5",
   "metadata": {},
   "outputs": [],
   "source": [
    "from ipywidgets import interact_manual"
   ]
  },
  {
   "cell_type": "code",
   "execution_count": 23,
   "id": "ed212669",
   "metadata": {},
   "outputs": [
    {
     "data": {
      "application/vnd.jupyter.widget-view+json": {
       "model_id": "192a8638a4944ae0b46689502b487539",
       "version_major": 2,
       "version_minor": 0
      },
      "text/plain": [
       "interactive(children=(Dropdown(description='x', options=('reads', 'views', 'word_count', 'claps', 'fans', 'rea…"
      ]
     },
     "metadata": {},
     "output_type": "display_data"
    }
   ],
   "source": [
    "@interact_manual\n",
    "def scatter_plot(x=list(df.select_dtypes('number').columns), \n",
    "                 y=list(df.select_dtypes('number').columns)[1:],\n",
    "                 theme = list(cf.themes.THEMES.keys()),\n",
    "                 colorscale=list(cf.colors._scales_names.keys()),\n",
    "                 categories=['binned_read_time', 'binned_word_count', 'publication']):\n",
    "    df.iplot(kind='scatter', x=x, y=y, mode='markers', \n",
    "             xTitle=x.title(), yTitle=y.title(), title=f'{y.title()} vs {x.title()}',\n",
    "             theme=theme, colorscale=colorscale, categories = categories)"
   ]
  },
  {
   "cell_type": "markdown",
   "id": "2dcb1c66",
   "metadata": {},
   "source": [
    "## Własne widgety\n",
    "Aby skorzystać jeszcze więcej z biblioteki ipywidgets, możemy sami tworzyć widgety i używać ich w funkcji interakcji.\n",
    "\n",
    "Stwórz własny widget. Napisz funkcję stats_for_article_published_between, która pobiera datę początkową i końcową, oraz wyświetla statystyki dla wszystkich artykułów opublikowanych między nimi."
   ]
  },
  {
   "cell_type": "code",
   "execution_count": 24,
   "id": "076a7fdc",
   "metadata": {},
   "outputs": [],
   "source": [
    "df.set_index('published_date', inplace=True)"
   ]
  },
  {
   "cell_type": "code",
   "execution_count": 25,
   "id": "57392607",
   "metadata": {},
   "outputs": [],
   "source": [
    "def stats_for_article_published_between(start_date, end_date):\n",
    "    start_date = pd.Timestamp(start_date)\n",
    "    end_date = pd.Timestamp(end_date)\n",
    "    stat_df = df.loc[(df.index >= start_date) & (df.index <= end_date)].copy()\n",
    "    num_articles = len(stat_df)\n",
    "    total_words = stat_df['word_count'].sum()\n",
    "    total_read_time = stat_df['read_time'].sum()\n",
    "    print(f'You published {num_articles} articles between {start_date.date()} and {end_date.date()}.')\n",
    "    print(f'These articles totalled {total_words:,} words and {total_read_time/60:.2f} hours to read.')"
   ]
  },
  {
   "cell_type": "markdown",
   "id": "c8333a4b",
   "metadata": {},
   "source": [
    "Za pomocą następującego kodu funkcja staje się interaktywna:"
   ]
  },
  {
   "cell_type": "code",
   "execution_count": 26,
   "id": "e7a1b84b",
   "metadata": {},
   "outputs": [
    {
     "data": {
      "application/vnd.jupyter.widget-view+json": {
       "model_id": "cb5add9a23664960866490b2b74d76ac",
       "version_major": 2,
       "version_minor": 0
      },
      "text/plain": [
       "interactive(children=(DatePicker(value=Timestamp('2018-01-01 00:00:00'), description='start_date'), DatePicker…"
      ]
     },
     "metadata": {},
     "output_type": "display_data"
    }
   ],
   "source": [
    "_ = interact(stats_for_article_published_between,\n",
    "             start_date=widgets.DatePicker(value=pd.to_datetime('2018-01-01')),\n",
    "             end_date=widgets.DatePicker(value=pd.to_datetime('2019-01-01')))"
   ]
  },
  {
   "cell_type": "markdown",
   "id": "328d9ecb",
   "metadata": {},
   "source": [
    "Napisz funkcję plot_up_to, aby narysować wykres kumulatywnej sumy wartości wybranej kolumny, do wybranego dnia.  \n",
    "\n",
    "Użyj Dropdown i DatePicker w funkcji *interact*."
   ]
  },
  {
   "cell_type": "code",
   "execution_count": 27,
   "id": "f60cb27a",
   "metadata": {},
   "outputs": [
    {
     "data": {
      "application/vnd.jupyter.widget-view+json": {
       "model_id": "7e1c406662ed4e1cacaa0dcfa96b1ca2",
       "version_major": 2,
       "version_minor": 0
      },
      "text/plain": [
       "interactive(children=(Dropdown(description='column', options=('reads', 'views', 'word_count', 'claps', 'fans',…"
      ]
     },
     "metadata": {},
     "output_type": "display_data"
    }
   ],
   "source": [
    "def plot_up_to(column, date):\n",
    "    date = pd.Timestamp(date)\n",
    "    stat_df = df.loc[(df.index <= date)].copy()\n",
    "    stat_df[column].cumsum().iplot(mode='markers+lines', \n",
    "                                   xTitle='published date',\n",
    "                                   yTitle=column, \n",
    "                                   title=f'Cumulative {column.title()}')\n",
    "\n",
    "_ = interact(plot_up_to, column=widgets.Dropdown(options=list(df.select_dtypes('number').columns)), \n",
    "             date = widgets.DatePicker(value=pd.to_datetime('2019-01-01')))"
   ]
  },
  {
   "cell_type": "markdown",
   "id": "4ff28f2b",
   "metadata": {},
   "source": [
    "## Przeglądanie zdjęć"
   ]
  },
  {
   "cell_type": "markdown",
   "id": "24630340",
   "metadata": {},
   "source": [
    "Stwórz funkcję z dekoratorem *@interact*, żeby przeglądać zdjęcia znajdujące się w wybranym folderze. Folder z 3-5 zdjęciami również umieść na repozytorium."
   ]
  },
  {
   "cell_type": "code",
   "execution_count": 28,
   "id": "a2de8881",
   "metadata": {},
   "outputs": [],
   "source": [
    "import os\n",
    "from IPython.display import Image"
   ]
  },
  {
   "cell_type": "code",
   "execution_count": 35,
   "id": "f92ccc78",
   "metadata": {},
   "outputs": [
    {
     "data": {
      "application/vnd.jupyter.widget-view+json": {
       "model_id": "8b421a9d8f934f79a196f27722bbe87d",
       "version_major": 2,
       "version_minor": 0
      },
      "text/plain": [
       "interactive(children=(Dropdown(description='file', options=('spring.jpg', 'winter.jpg', 'autumn.jpg', 'summer.…"
      ]
     },
     "metadata": {},
     "output_type": "display_data"
    }
   ],
   "source": [
    "fdir = 'images/'\n",
    "@interact\n",
    "def show_images(file=os.listdir(fdir)):\n",
    "    display(Image(fdir+file))"
   ]
  },
  {
   "cell_type": "markdown",
   "id": "44ae98fd",
   "metadata": {},
   "source": [
    "## Przeglądanie plików"
   ]
  },
  {
   "cell_type": "markdown",
   "id": "eed9135b",
   "metadata": {},
   "source": [
    "Stwórz funkcję z dekoratorem *@interact*, żeby przeglądać pliki znajdujące się w wybranych folderach.\n",
    "Skorzystaj z następujących (przykładowych) opcji komendy *ls*: **ls -a -t -r -l -h**. Więcej informacji znajduje się [tutaj](https://www.rapidtables.com/code/linux/ls.html)."
   ]
  },
  {
   "cell_type": "code",
   "execution_count": 46,
   "id": "17c40c21",
   "metadata": {},
   "outputs": [
    {
     "data": {
      "application/vnd.jupyter.widget-view+json": {
       "model_id": "26fdb0cb2c6340ba8a1f2bd1b8398f4d",
       "version_major": 2,
       "version_minor": 0
      },
      "text/plain": [
       "interactive(children=(Dropdown(description='file', options=('Lab. 14 - Raporty i wizualizacja danych.ipynb', '…"
      ]
     },
     "metadata": {},
     "output_type": "display_data"
    }
   ],
   "source": [
    "import subprocess\n",
    "import os\n",
    "@interact\n",
    "def files_in(file=os.listdir()):\n",
    "    cmd = 'ls -a {}'.format(file)\n",
    "    process = os.popen(cmd)\n",
    "    print(process.read())"
   ]
  },
  {
   "cell_type": "code",
   "execution_count": 31,
   "id": "450c0e8a",
   "metadata": {},
   "outputs": [
    {
     "data": {
      "text/plain": [
       "<_io.BufferedReader name=59>"
      ]
     },
     "metadata": {},
     "output_type": "display_data"
    }
   ],
   "source": []
  },
  {
   "cell_type": "markdown",
   "id": "f3f06fc6",
   "metadata": {},
   "source": [
    "## Zależne widgety\n",
    "Jeśli chcemy opcje jednego widgetu uzależnić od wartości innego widgetu, używamy metody *observe*. \n",
    "\n",
    "Wykorzystaj metodę *observe*, żeby zmienić funkcję przeglądania zdjęć tak, by móc wybierać zarówno ścieżkę, jak i obraz do wyświetlenia. Drugi folder z 3-5 zdjęciami również umieść na repozytorium."
   ]
  },
  {
   "cell_type": "code",
   "execution_count": 32,
   "id": "6a964559",
   "metadata": {},
   "outputs": [
    {
     "data": {
      "application/vnd.jupyter.widget-view+json": {
       "model_id": "2b2a31579c9e47d28de9cf1ff9005d60",
       "version_major": 2,
       "version_minor": 0
      },
      "text/plain": [
       "interactive(children=(Dropdown(description='fdir', options=('images', 'cities'), value='images'), Dropdown(des…"
      ]
     },
     "metadata": {},
     "output_type": "display_data"
    }
   ],
   "source": [
    "directory = widgets.Dropdown(options=['images', 'cities'])\n",
    "images = widgets.Dropdown(options=os.listdir(directory.value))\n",
    "\n",
    "def update_images(*args):\n",
    "    images.options = os.listdir(directory.value)\n",
    "\n",
    "directory.observe(update_images, 'value')\n",
    "\n",
    "def show_images(fdir, file):\n",
    "    display(Image(f'{fdir}/{file}'))\n",
    "\n",
    "_ = interact(show_images, fdir=directory, file=images)"
   ]
  },
  {
   "cell_type": "markdown",
   "id": "0949a222",
   "metadata": {},
   "source": [
    "Możemy również przypisać zmienną do outputu funkcji *interact*, a następnie ponownie użyć widgetu. Może mieć to jednak niezamierzone skutki!\n",
    "\n",
    "Teraz zmiana wartości w jednej lokalizacji zmienia ją w obu miejscach! Może to być drobna niedogodność, ale zaletą jest to, że możemy ponownie wykorzystać interaktywny element."
   ]
  },
  {
   "cell_type": "code",
   "execution_count": 40,
   "id": "dd85b6e0",
   "metadata": {},
   "outputs": [
    {
     "data": {
      "application/vnd.jupyter.widget-view+json": {
       "model_id": "4f78749727f64f7b9d1b6e6d8c3b2e6c",
       "version_major": 2,
       "version_minor": 0
      },
      "text/plain": [
       "interactive(children=(Dropdown(description='file', index=3, options=('prague.jpg', 'warsaw.jpg', 'cracow.jpg',…"
      ]
     },
     "metadata": {},
     "output_type": "display_data"
    }
   ],
   "source": [
    "dependent_widget = interact(show_images, fdir=directory, file=images)"
   ]
  },
  {
   "cell_type": "code",
   "execution_count": 41,
   "id": "f23278f0",
   "metadata": {},
   "outputs": [
    {
     "data": {
      "application/vnd.jupyter.widget-view+json": {
       "model_id": "4f78749727f64f7b9d1b6e6d8c3b2e6c",
       "version_major": 2,
       "version_minor": 0
      },
      "text/plain": [
       "interactive(children=(Dropdown(description='file', index=3, options=('prague.jpg', 'warsaw.jpg', 'cracow.jpg',…"
      ]
     },
     "metadata": {},
     "output_type": "display_data"
    }
   ],
   "source": [
    "dependent_widget.widget"
   ]
  },
  {
   "cell_type": "markdown",
   "id": "570928f7",
   "metadata": {},
   "source": [
    "## Wnioski"
   ]
  },
  {
   "cell_type": "code",
   "execution_count": null,
   "id": "9a3c4118",
   "metadata": {},
   "outputs": [],
   "source": [
    "# Widgety są przydatne w zwiększaniu wydajności analizy danych. Zamiast wielokrotnie zmieniać wartość zmiennej, \n",
    "# co jest uciążliwe i czasochłonne, można dobrać idealne parametry przesuwając suwak. Zamiast wprowadzać kod dla \n",
    "# każdego wykresu, który chcemy zobaczyć - możemy stworzyć wykres interaktywny, który po jednym kliknięciu zmienia \n",
    "# parametry w zupełnie inny wykres. Widgety mają wiele więcej do zaoferowania dla ułatwienia pracy. Funkcjonalność\n",
    "# własnych widgetów powoduje, że tworzenie nowej funkcjonalności jest proste."
   ]
  }
 ],
 "metadata": {
  "kernelspec": {
   "display_name": "Python 3 (ipykernel)",
   "language": "python",
   "name": "python3"
  },
  "language_info": {
   "codemirror_mode": {
    "name": "ipython",
    "version": 3
   },
   "file_extension": ".py",
   "mimetype": "text/x-python",
   "name": "python",
   "nbconvert_exporter": "python",
   "pygments_lexer": "ipython3",
   "version": "3.8.0"
  }
 },
 "nbformat": 4,
 "nbformat_minor": 5
}
