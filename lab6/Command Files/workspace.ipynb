{
 "cells": [
  {
   "cell_type": "code",
   "execution_count": 1,
   "id": "85a3553b",
   "metadata": {},
   "outputs": [],
   "source": [
    "import pandas as pd\n",
    "import numpy as np\n",
    "import matplotlib.pyplot as plt\n",
    "\n",
    "df = pd.read_csv(\"../Analysis Data/Swietokrzyskie.csv\", index_col=0)"
   ]
  },
  {
   "cell_type": "code",
   "execution_count": 2,
   "id": "04ad545b",
   "metadata": {},
   "outputs": [
    {
     "name": "stdout",
     "output_type": "stream",
     "text": [
      "<class 'pandas.core.frame.DataFrame'>\n",
      "Int64Index: 466 entries, 0 to 465\n",
      "Data columns (total 5 columns):\n",
      " #   Column           Non-Null Count  Dtype  \n",
      "---  ------           --------------  -----  \n",
      " 0   Dni od zakupu    466 non-null    int64  \n",
      " 1   Marka            466 non-null    object \n",
      " 2   Wiek kupującego  418 non-null    float64\n",
      " 3   Płeć kupującego  466 non-null    object \n",
      " 4   Ocena            466 non-null    float64\n",
      "dtypes: float64(2), int64(1), object(2)\n",
      "memory usage: 21.8+ KB\n"
     ]
    }
   ],
   "source": [
    "df.info()"
   ]
  },
  {
   "cell_type": "code",
   "execution_count": 3,
   "id": "c36e23c1",
   "metadata": {},
   "outputs": [
    {
     "data": {
      "text/html": [
       "<div>\n",
       "<style scoped>\n",
       "    .dataframe tbody tr th:only-of-type {\n",
       "        vertical-align: middle;\n",
       "    }\n",
       "\n",
       "    .dataframe tbody tr th {\n",
       "        vertical-align: top;\n",
       "    }\n",
       "\n",
       "    .dataframe thead th {\n",
       "        text-align: right;\n",
       "    }\n",
       "</style>\n",
       "<table border=\"1\" class=\"dataframe\">\n",
       "  <thead>\n",
       "    <tr style=\"text-align: right;\">\n",
       "      <th></th>\n",
       "      <th>Dni od zakupu</th>\n",
       "      <th>Marka</th>\n",
       "      <th>Wiek kupującego</th>\n",
       "      <th>Płeć kupującego</th>\n",
       "      <th>Ocena</th>\n",
       "    </tr>\n",
       "  </thead>\n",
       "  <tbody>\n",
       "    <tr>\n",
       "      <th>0</th>\n",
       "      <td>7</td>\n",
       "      <td>Beko</td>\n",
       "      <td>33.0</td>\n",
       "      <td>M</td>\n",
       "      <td>3.0</td>\n",
       "    </tr>\n",
       "    <tr>\n",
       "      <th>1</th>\n",
       "      <td>7</td>\n",
       "      <td>Beko</td>\n",
       "      <td>55.0</td>\n",
       "      <td>bd.</td>\n",
       "      <td>3.0</td>\n",
       "    </tr>\n",
       "    <tr>\n",
       "      <th>2</th>\n",
       "      <td>10</td>\n",
       "      <td>Beko</td>\n",
       "      <td>50.0</td>\n",
       "      <td>M</td>\n",
       "      <td>2.0</td>\n",
       "    </tr>\n",
       "    <tr>\n",
       "      <th>3</th>\n",
       "      <td>11</td>\n",
       "      <td>Tefal</td>\n",
       "      <td>36.0</td>\n",
       "      <td>M</td>\n",
       "      <td>2.5</td>\n",
       "    </tr>\n",
       "    <tr>\n",
       "      <th>4</th>\n",
       "      <td>3</td>\n",
       "      <td>Beko</td>\n",
       "      <td>62.0</td>\n",
       "      <td>K</td>\n",
       "      <td>2.5</td>\n",
       "    </tr>\n",
       "  </tbody>\n",
       "</table>\n",
       "</div>"
      ],
      "text/plain": [
       "   Dni od zakupu  Marka  Wiek kupującego Płeć kupującego  Ocena\n",
       "0              7   Beko             33.0               M    3.0\n",
       "1              7   Beko             55.0             bd.    3.0\n",
       "2             10   Beko             50.0               M    2.0\n",
       "3             11  Tefal             36.0               M    2.5\n",
       "4              3   Beko             62.0               K    2.5"
      ]
     },
     "execution_count": 3,
     "metadata": {},
     "output_type": "execute_result"
    }
   ],
   "source": [
    "df.head()"
   ]
  },
  {
   "cell_type": "code",
   "execution_count": 4,
   "id": "7ac8a862",
   "metadata": {},
   "outputs": [
    {
     "data": {
      "text/html": [
       "<div>\n",
       "<style scoped>\n",
       "    .dataframe tbody tr th:only-of-type {\n",
       "        vertical-align: middle;\n",
       "    }\n",
       "\n",
       "    .dataframe tbody tr th {\n",
       "        vertical-align: top;\n",
       "    }\n",
       "\n",
       "    .dataframe thead th {\n",
       "        text-align: right;\n",
       "    }\n",
       "</style>\n",
       "<table border=\"1\" class=\"dataframe\">\n",
       "  <thead>\n",
       "    <tr style=\"text-align: right;\">\n",
       "      <th></th>\n",
       "      <th>Ostatni_zakup</th>\n",
       "      <th>Marka</th>\n",
       "      <th>Wiek</th>\n",
       "      <th>Płeć</th>\n",
       "      <th>Ocena</th>\n",
       "    </tr>\n",
       "  </thead>\n",
       "  <tbody>\n",
       "    <tr>\n",
       "      <th>0</th>\n",
       "      <td>7</td>\n",
       "      <td>Beko</td>\n",
       "      <td>33.0</td>\n",
       "      <td>M</td>\n",
       "      <td>3.0</td>\n",
       "    </tr>\n",
       "    <tr>\n",
       "      <th>1</th>\n",
       "      <td>7</td>\n",
       "      <td>Beko</td>\n",
       "      <td>55.0</td>\n",
       "      <td>bd.</td>\n",
       "      <td>3.0</td>\n",
       "    </tr>\n",
       "    <tr>\n",
       "      <th>2</th>\n",
       "      <td>10</td>\n",
       "      <td>Beko</td>\n",
       "      <td>50.0</td>\n",
       "      <td>M</td>\n",
       "      <td>2.0</td>\n",
       "    </tr>\n",
       "    <tr>\n",
       "      <th>3</th>\n",
       "      <td>11</td>\n",
       "      <td>Tefal</td>\n",
       "      <td>36.0</td>\n",
       "      <td>M</td>\n",
       "      <td>2.5</td>\n",
       "    </tr>\n",
       "    <tr>\n",
       "      <th>4</th>\n",
       "      <td>3</td>\n",
       "      <td>Beko</td>\n",
       "      <td>62.0</td>\n",
       "      <td>K</td>\n",
       "      <td>2.5</td>\n",
       "    </tr>\n",
       "    <tr>\n",
       "      <th>...</th>\n",
       "      <td>...</td>\n",
       "      <td>...</td>\n",
       "      <td>...</td>\n",
       "      <td>...</td>\n",
       "      <td>...</td>\n",
       "    </tr>\n",
       "    <tr>\n",
       "      <th>461</th>\n",
       "      <td>8</td>\n",
       "      <td>Beko</td>\n",
       "      <td>19.0</td>\n",
       "      <td>M</td>\n",
       "      <td>2.5</td>\n",
       "    </tr>\n",
       "    <tr>\n",
       "      <th>462</th>\n",
       "      <td>9</td>\n",
       "      <td>Electrolux</td>\n",
       "      <td>50.0</td>\n",
       "      <td>K</td>\n",
       "      <td>3.0</td>\n",
       "    </tr>\n",
       "    <tr>\n",
       "      <th>463</th>\n",
       "      <td>9</td>\n",
       "      <td>Beko</td>\n",
       "      <td>NaN</td>\n",
       "      <td>K</td>\n",
       "      <td>2.0</td>\n",
       "    </tr>\n",
       "    <tr>\n",
       "      <th>464</th>\n",
       "      <td>5</td>\n",
       "      <td>Tefal</td>\n",
       "      <td>41.0</td>\n",
       "      <td>M</td>\n",
       "      <td>3.0</td>\n",
       "    </tr>\n",
       "    <tr>\n",
       "      <th>465</th>\n",
       "      <td>11</td>\n",
       "      <td>Beko</td>\n",
       "      <td>61.0</td>\n",
       "      <td>M</td>\n",
       "      <td>1.0</td>\n",
       "    </tr>\n",
       "  </tbody>\n",
       "</table>\n",
       "<p>466 rows × 5 columns</p>\n",
       "</div>"
      ],
      "text/plain": [
       "     Ostatni_zakup       Marka  Wiek Płeć  Ocena\n",
       "0                7        Beko  33.0    M    3.0\n",
       "1                7        Beko  55.0  bd.    3.0\n",
       "2               10        Beko  50.0    M    2.0\n",
       "3               11       Tefal  36.0    M    2.5\n",
       "4                3        Beko  62.0    K    2.5\n",
       "..             ...         ...   ...  ...    ...\n",
       "461              8        Beko  19.0    M    2.5\n",
       "462              9  Electrolux  50.0    K    3.0\n",
       "463              9        Beko   NaN    K    2.0\n",
       "464              5       Tefal  41.0    M    3.0\n",
       "465             11        Beko  61.0    M    1.0\n",
       "\n",
       "[466 rows x 5 columns]"
      ]
     },
     "execution_count": 4,
     "metadata": {},
     "output_type": "execute_result"
    }
   ],
   "source": [
    "df=df.rename(columns={'Płeć kupującego': 'Płeć', 'Wiek kupującego': 'Wiek', 'Dni od zakupu': 'Ostatni_zakup'})\n",
    "df"
   ]
  },
  {
   "cell_type": "code",
   "execution_count": 5,
   "id": "21ff5285",
   "metadata": {},
   "outputs": [
    {
     "data": {
      "text/html": [
       "<div>\n",
       "<style scoped>\n",
       "    .dataframe tbody tr th:only-of-type {\n",
       "        vertical-align: middle;\n",
       "    }\n",
       "\n",
       "    .dataframe tbody tr th {\n",
       "        vertical-align: top;\n",
       "    }\n",
       "\n",
       "    .dataframe thead th {\n",
       "        text-align: right;\n",
       "    }\n",
       "</style>\n",
       "<table border=\"1\" class=\"dataframe\">\n",
       "  <thead>\n",
       "    <tr style=\"text-align: right;\">\n",
       "      <th></th>\n",
       "      <th>Ostatni_zakup</th>\n",
       "      <th>Marka</th>\n",
       "      <th>Wiek</th>\n",
       "      <th>Płeć</th>\n",
       "      <th>Ocena</th>\n",
       "    </tr>\n",
       "  </thead>\n",
       "  <tbody>\n",
       "    <tr>\n",
       "      <th>0</th>\n",
       "      <td>7</td>\n",
       "      <td>Beko</td>\n",
       "      <td>33.0</td>\n",
       "      <td>M</td>\n",
       "      <td>3.0</td>\n",
       "    </tr>\n",
       "    <tr>\n",
       "      <th>1</th>\n",
       "      <td>7</td>\n",
       "      <td>Beko</td>\n",
       "      <td>55.0</td>\n",
       "      <td>None</td>\n",
       "      <td>3.0</td>\n",
       "    </tr>\n",
       "    <tr>\n",
       "      <th>2</th>\n",
       "      <td>10</td>\n",
       "      <td>Beko</td>\n",
       "      <td>50.0</td>\n",
       "      <td>M</td>\n",
       "      <td>2.0</td>\n",
       "    </tr>\n",
       "    <tr>\n",
       "      <th>3</th>\n",
       "      <td>11</td>\n",
       "      <td>Tefal</td>\n",
       "      <td>36.0</td>\n",
       "      <td>M</td>\n",
       "      <td>2.5</td>\n",
       "    </tr>\n",
       "    <tr>\n",
       "      <th>4</th>\n",
       "      <td>3</td>\n",
       "      <td>Beko</td>\n",
       "      <td>62.0</td>\n",
       "      <td>K</td>\n",
       "      <td>2.5</td>\n",
       "    </tr>\n",
       "    <tr>\n",
       "      <th>...</th>\n",
       "      <td>...</td>\n",
       "      <td>...</td>\n",
       "      <td>...</td>\n",
       "      <td>...</td>\n",
       "      <td>...</td>\n",
       "    </tr>\n",
       "    <tr>\n",
       "      <th>461</th>\n",
       "      <td>8</td>\n",
       "      <td>Beko</td>\n",
       "      <td>19.0</td>\n",
       "      <td>M</td>\n",
       "      <td>2.5</td>\n",
       "    </tr>\n",
       "    <tr>\n",
       "      <th>462</th>\n",
       "      <td>9</td>\n",
       "      <td>Electrolux</td>\n",
       "      <td>50.0</td>\n",
       "      <td>K</td>\n",
       "      <td>3.0</td>\n",
       "    </tr>\n",
       "    <tr>\n",
       "      <th>463</th>\n",
       "      <td>9</td>\n",
       "      <td>Beko</td>\n",
       "      <td>NaN</td>\n",
       "      <td>K</td>\n",
       "      <td>2.0</td>\n",
       "    </tr>\n",
       "    <tr>\n",
       "      <th>464</th>\n",
       "      <td>5</td>\n",
       "      <td>Tefal</td>\n",
       "      <td>41.0</td>\n",
       "      <td>M</td>\n",
       "      <td>3.0</td>\n",
       "    </tr>\n",
       "    <tr>\n",
       "      <th>465</th>\n",
       "      <td>11</td>\n",
       "      <td>Beko</td>\n",
       "      <td>61.0</td>\n",
       "      <td>M</td>\n",
       "      <td>1.0</td>\n",
       "    </tr>\n",
       "  </tbody>\n",
       "</table>\n",
       "<p>466 rows × 5 columns</p>\n",
       "</div>"
      ],
      "text/plain": [
       "     Ostatni_zakup       Marka  Wiek  Płeć  Ocena\n",
       "0                7        Beko  33.0     M    3.0\n",
       "1                7        Beko  55.0  None    3.0\n",
       "2               10        Beko  50.0     M    2.0\n",
       "3               11       Tefal  36.0     M    2.5\n",
       "4                3        Beko  62.0     K    2.5\n",
       "..             ...         ...   ...   ...    ...\n",
       "461              8        Beko  19.0     M    2.5\n",
       "462              9  Electrolux  50.0     K    3.0\n",
       "463              9        Beko   NaN     K    2.0\n",
       "464              5       Tefal  41.0     M    3.0\n",
       "465             11        Beko  61.0     M    1.0\n",
       "\n",
       "[466 rows x 5 columns]"
      ]
     },
     "execution_count": 5,
     "metadata": {},
     "output_type": "execute_result"
    }
   ],
   "source": [
    "df2=df.copy()\n",
    "df2['Płeć']=df['Płeć'].map({'bd.':None, 'M':'M', 'K':'K'})\n",
    "df2\n",
    "\n"
   ]
  },
  {
   "cell_type": "code",
   "execution_count": 6,
   "id": "268a10b3",
   "metadata": {},
   "outputs": [
    {
     "data": {
      "text/plain": [
       "array(['Beko', 'Tefal', 'Electrolux', 'Samsung', 'Dyson'], dtype=object)"
      ]
     },
     "execution_count": 6,
     "metadata": {},
     "output_type": "execute_result"
    }
   ],
   "source": [
    "firms = df2.Marka.unique()\n",
    "## stats = pd.DataFrame{}\n",
    "firms"
   ]
  },
  {
   "cell_type": "code",
   "execution_count": 7,
   "id": "12b89deb",
   "metadata": {},
   "outputs": [
    {
     "data": {
      "text/plain": [
       "<AxesSubplot:title={'center':'Wykres ilosci kupionych odkurzaczy danych marek'}, xlabel='Ilosc zakupionych odkurzaczy', ylabel='Marka'>"
      ]
     },
     "execution_count": 7,
     "metadata": {},
     "output_type": "execute_result"
    },
    {
     "data": {
      "image/png": "[encoded data removed]",
      "text/plain": [
       "<Figure size 432x288 with 1 Axes>"
      ]
     },
     "metadata": {
      "needs_background": "light"
     },
     "output_type": "display_data"
    }
   ],
   "source": [
    "fig, ax = plt.subplots()\n",
    "ax.set_xlabel('Ilosc zakupionych odkurzaczy')\n",
    "ax.set_ylabel('Marka')\n",
    "ax.set_title('Wykres ilosci kupionych odkurzaczy danych marek')\n",
    "df2.Marka.value_counts().sort_index().plot(kind = 'barh')"
   ]
  },
  {
   "cell_type": "code",
   "execution_count": 8,
   "id": "1349019f",
   "metadata": {},
   "outputs": [
    {
     "data": {
      "text/plain": [
       "<AxesSubplot:title={'center':'Wykres ilosci kupionych odkurzaczy w ostatnich 18 dniach'}, xlabel='Ilosc dni od zakupu', ylabel='Ilosc zakupionych odkurzaczy'>"
      ]
     },
     "execution_count": 8,
     "metadata": {},
     "output_type": "execute_result"
    },
    {
     "data": {
      "image/png": "[encoded data removed]",
      "text/plain": [
       "<Figure size 432x288 with 1 Axes>"
      ]
     },
     "metadata": {
      "needs_background": "light"
     },
     "output_type": "display_data"
    }
   ],
   "source": [
    "fig, ax = plt.subplots()\n",
    "ax.set_xlabel('Ilosc dni od zakupu')\n",
    "ax.set_ylabel('Ilosc zakupionych odkurzaczy')\n",
    "ax.set_title('Wykres ilosci kupionych odkurzaczy w ostatnich 18 dniach')\n",
    "df2.Ostatni_zakup.value_counts().sort_index().plot(kind = 'bar')"
   ]
  },
  {
   "cell_type": "code",
   "execution_count": 9,
   "id": "221e4d6c",
   "metadata": {},
   "outputs": [
    {
     "data": {
      "text/plain": [
       "<AxesSubplot:title={'center':'Wykres ilosci kupcow o danym wieku'}, xlabel='Wiek kupcow', ylabel='Ilosc kupcow o danym wieku'>"
      ]
     },
     "execution_count": 9,
     "metadata": {},
     "output_type": "execute_result"
    },
    {
     "data": {
      "image/png": "[encoded data removed]",
      "text/plain": [
       "<Figure size 432x288 with 1 Axes>"
      ]
     },
     "metadata": {
      "needs_background": "light"
     },
     "output_type": "display_data"
    }
   ],
   "source": [
    "fig, ax = plt.subplots()\n",
    "ax.set_xlabel('Wiek kupcow')\n",
    "ax.set_ylabel('Ilosc kupcow o danym wieku')\n",
    "ax.set_title('Wykres ilosci kupcow o danym wieku')\n",
    "ax.set(xlim=(18, 72), ylim=(0, 25))\n",
    "df2.Wiek.value_counts().sort_index().plot(kind = 'line')"
   ]
  },
  {
   "cell_type": "code",
   "execution_count": 10,
   "id": "07713045",
   "metadata": {},
   "outputs": [
    {
     "data": {
      "text/plain": [
       "<AxesSubplot:title={'center':'Ilosc zakupow od poszczegolnych plci'}, xlabel='Ilosc zakupionych odkurzaczy', ylabel='Płeć'>"
      ]
     },
     "execution_count": 10,
     "metadata": {},
     "output_type": "execute_result"
    },
    {
     "data": {
      "image/png": "[encoded data removed]",
      "text/plain": [
       "<Figure size 432x288 with 1 Axes>"
      ]
     },
     "metadata": {
      "needs_background": "light"
     },
     "output_type": "display_data"
    }
   ],
   "source": [
    "fig, ax = plt.subplots()\n",
    "ax.set_xlabel('Ilosc zakupionych odkurzaczy')\n",
    "ax.set_ylabel('Płeć')\n",
    "ax.set_title('Ilosc zakupow od poszczegolnych plci')\n",
    "df2.Płeć.value_counts().sort_index().plot(kind = 'barh')"
   ]
  },
  {
   "cell_type": "code",
   "execution_count": 11,
   "id": "9c1a320d",
   "metadata": {},
   "outputs": [
    {
     "data": {
      "text/plain": [
       "<AxesSubplot:title={'center':'Wykres czestotliwosci ocen'}, xlabel='Ocena', ylabel='Ilosc ocen'>"
      ]
     },
     "execution_count": 11,
     "metadata": {},
     "output_type": "execute_result"
    },
    {
     "data": {
      "image/png": "[encoded data removed]",
      "text/plain": [
       "<Figure size 432x288 with 1 Axes>"
      ]
     },
     "metadata": {
      "needs_background": "light"
     },
     "output_type": "display_data"
    }
   ],
   "source": [
    "fig, ax = plt.subplots()\n",
    "ax.set_xlabel('Ocena')\n",
    "ax.set_ylabel('Ilosc ocen')\n",
    "ax.set_title('Wykres czestotliwosci ocen')\n",
    "df2.Ocena.value_counts().sort_index().plot(kind = 'bar')"
   ]
  },
  {
   "cell_type": "code",
   "execution_count": 12,
   "id": "484ba94a",
   "metadata": {},
   "outputs": [
    {
     "data": {
      "text/plain": [
       "count    466.000000\n",
       "mean       7.126609\n",
       "std        2.764417\n",
       "min        0.000000\n",
       "25%        5.000000\n",
       "50%        7.000000\n",
       "75%        9.000000\n",
       "max       17.000000\n",
       "Name: Ostatni_zakup, dtype: float64"
      ]
     },
     "execution_count": 12,
     "metadata": {},
     "output_type": "execute_result"
    }
   ],
   "source": [
    "df2.Ostatni_zakup.describe()"
   ]
  },
  {
   "cell_type": "code",
   "execution_count": 13,
   "id": "a4ab3804",
   "metadata": {},
   "outputs": [
    {
     "data": {
      "text/plain": [
       "count    418.000000\n",
       "mean      40.186603\n",
       "std        9.710367\n",
       "min       18.000000\n",
       "25%       33.250000\n",
       "50%       40.000000\n",
       "75%       47.000000\n",
       "max       72.000000\n",
       "Name: Wiek, dtype: float64"
      ]
     },
     "execution_count": 13,
     "metadata": {},
     "output_type": "execute_result"
    }
   ],
   "source": [
    "df2.Wiek.describe()"
   ]
  },
  {
   "cell_type": "code",
   "execution_count": 14,
   "id": "d15c0a00",
   "metadata": {},
   "outputs": [
    {
     "data": {
      "text/plain": [
       "count    466.000000\n",
       "mean       2.413090\n",
       "std        1.081347\n",
       "min        0.000000\n",
       "25%        1.500000\n",
       "50%        2.500000\n",
       "75%        3.000000\n",
       "max        5.000000\n",
       "Name: Ocena, dtype: float64"
      ]
     },
     "execution_count": 14,
     "metadata": {},
     "output_type": "execute_result"
    }
   ],
   "source": [
    "df2.Ocena.describe()"
   ]
  },
  {
   "cell_type": "code",
   "execution_count": 15,
   "id": "255ec4e9",
   "metadata": {},
   "outputs": [
    {
     "data": {
      "text/plain": [
       "M    238\n",
       "K    130\n",
       "Name: Płeć, dtype: int64"
      ]
     },
     "execution_count": 15,
     "metadata": {},
     "output_type": "execute_result"
    }
   ],
   "source": [
    "df2.Płeć.value_counts()"
   ]
  },
  {
   "cell_type": "code",
   "execution_count": 16,
   "id": "ee2306d1",
   "metadata": {},
   "outputs": [
    {
     "data": {
      "text/plain": [
       "Beko          323\n",
       "Tefal          48\n",
       "Electrolux     47\n",
       "Dyson          34\n",
       "Samsung        14\n",
       "Name: Marka, dtype: int64"
      ]
     },
     "execution_count": 16,
     "metadata": {},
     "output_type": "execute_result"
    }
   ],
   "source": [
    "df2.Marka.value_counts()"
   ]
  },
  {
   "cell_type": "code",
   "execution_count": 17,
   "id": "c52d1f4b",
   "metadata": {
    "scrolled": true
   },
   "outputs": [
    {
     "data": {
      "text/plain": [
       "<BarContainer object of 52 artists>"
      ]
     },
     "execution_count": 17,
     "metadata": {},
     "output_type": "execute_result"
    },
    {
     "data": {
      "image/png": "[encoded data removed]",
      "text/plain": [
       "<Figure size 432x288 with 1 Axes>"
      ]
     },
     "metadata": {
      "needs_background": "light"
     },
     "output_type": "display_data"
    }
   ],
   "source": [
    "wiek_klientow = df2.Wiek.unique()\n",
    "averages=[]\n",
    "for i in range(0, len(wiek_klientow)):\n",
    "    averages.append(df2[df2['Wiek']==wiek_klientow[i]].Ocena.mean())\n",
    "fig, ax = plt.subplots()\n",
    "ax.set_xlabel('Wiek klientow')\n",
    "ax.set_ylabel('Srednia ocena')\n",
    "ax.set_title('Srednia ocena wedlug wieku klientow')\n",
    "plt.bar(wiek_klientow,averages)"
   ]
  },
  {
   "cell_type": "code",
   "execution_count": 18,
   "id": "f309f9b1",
   "metadata": {},
   "outputs": [
    {
     "data": {
      "text/plain": [
       "<BarContainer object of 5 artists>"
      ]
     },
     "execution_count": 18,
     "metadata": {},
     "output_type": "execute_result"
    },
    {
     "data": {
      "image/png": "[encoded data removed]",
      "text/plain": [
       "<Figure size 432x288 with 1 Axes>"
      ]
     },
     "metadata": {
      "needs_background": "light"
     },
     "output_type": "display_data"
    }
   ],
   "source": [
    "averages=[]\n",
    "for i in range(0, len(firms)):\n",
    "    averages.append(df2[df2['Marka']==firms[i]].Ocena.mean())\n",
    "fig, ax = plt.subplots()\n",
    "ax.set_xlabel('Firma')\n",
    "ax.set_ylabel('Srednia ocena')\n",
    "ax.set_title('Srednia ocena wedlug producentow')\n",
    "plt.bar(firms,averages)"
   ]
  },
  {
   "cell_type": "code",
   "execution_count": 19,
   "id": "b33add89",
   "metadata": {},
   "outputs": [
    {
     "data": {
      "text/plain": [
       "<AxesSubplot:title={'center':'Ilosc kupionych odkurzaczy danych film przez kobiety'}, xlabel='Firmy', ylabel='Ilosc kupionych odkurzaczy'>"
      ]
     },
     "execution_count": 19,
     "metadata": {},
     "output_type": "execute_result"
    },
    {
     "data": {
      "image/png": "[encoded data removed]",
      "text/plain": [
       "<Figure size 432x288 with 1 Axes>"
      ]
     },
     "metadata": {
      "needs_background": "light"
     },
     "output_type": "display_data"
    }
   ],
   "source": [
    "fig, ax = plt.subplots()\n",
    "ax.set_xlabel('Firmy')\n",
    "ax.set_ylabel('Ilosc kupionych odkurzaczy')\n",
    "ax.set_title('Ilosc kupionych odkurzaczy danych film przez kobiety')\n",
    "df2[df2['Płeć']=='K'].Marka.value_counts().plot(kind='bar')\n"
   ]
  },
  {
   "cell_type": "code",
   "execution_count": 20,
   "id": "2916e23b",
   "metadata": {},
   "outputs": [
    {
     "data": {
      "text/plain": [
       "<AxesSubplot:title={'center':'Ilosc kupionych odkurzaczy danych film przez mezczyzn'}, xlabel='Firmy', ylabel='Ilosc kupionych odkurzaczy'>"
      ]
     },
     "execution_count": 20,
     "metadata": {},
     "output_type": "execute_result"
    },
    {
     "data": {
      "image/png": "[encoded data removed]",
      "text/plain": [
       "<Figure size 432x288 with 1 Axes>"
      ]
     },
     "metadata": {
      "needs_background": "light"
     },
     "output_type": "display_data"
    }
   ],
   "source": [
    "fig, ax = plt.subplots()\n",
    "ax.set_xlabel('Firmy')\n",
    "ax.set_ylabel('Ilosc kupionych odkurzaczy')\n",
    "ax.set_title('Ilosc kupionych odkurzaczy danych film przez mezczyzn')\n",
    "df2[df2['Płeć']=='M'].Marka.value_counts().plot(kind='bar')\n"
   ]
  },
  {
   "cell_type": "code",
   "execution_count": 28,
   "id": "84acd708",
   "metadata": {},
   "outputs": [
    {
     "data": {
      "text/plain": [
       "<BarContainer object of 18 artists>"
      ]
     },
     "execution_count": 28,
     "metadata": {},
     "output_type": "execute_result"
    },
    {
     "data": {
      "image/png": "[encoded data removed]",
      "text/plain": [
       "<Figure size 432x288 with 1 Axes>"
      ]
     },
     "metadata": {
      "needs_background": "light"
     },
     "output_type": "display_data"
    }
   ],
   "source": [
    "fig, ax = plt.subplots()\n",
    "x = df2.Ostatni_zakup.unique()\n",
    "y=[]\n",
    "for i in range(0, len(x)):\n",
    "    y.append(df2[df2['Ostatni_zakup']==x[i]].Ocena.mean()) \n",
    "ax.set_xlabel('Ilość dni minionych od zakupu')\n",
    "ax.set_ylabel('Ocena produktu')\n",
    "ax.set_title('Ocena produktu na przestrzeni czasu')\n",
    "plt.bar(x,y)"
   ]
  },
  {
   "cell_type": "code",
   "execution_count": null,
   "id": "308582f7",
   "metadata": {},
   "outputs": [],
   "source": []
  }
 ],
 "metadata": {
  "kernelspec": {
   "display_name": "Python 3 (ipykernel)",
   "language": "python",
   "name": "python3"
  },
  "language_info": {
   "codemirror_mode": {
    "name": "ipython",
    "version": 3
   },
   "file_extension": ".py",
   "mimetype": "text/x-python",
   "name": "python",
   "nbconvert_exporter": "python",
   "pygments_lexer": "ipython3",
   "version": "3.8.0"
  }
 },
 "nbformat": 4,
 "nbformat_minor": 5
}
